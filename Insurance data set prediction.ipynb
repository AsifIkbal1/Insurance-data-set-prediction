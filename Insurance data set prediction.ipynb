{
 "cells": [
  {
   "cell_type": "code",
   "execution_count": 153,
   "metadata": {},
   "outputs": [],
   "source": [
    "import pandas as pd\n",
    "from pandas.plotting import scatter_matrix\n",
    "import matplotlib.pyplot as plt\n",
    "from sklearn import model_selection\n",
    "from sklearn.metrics import classification_report\n",
    "from sklearn.metrics import confusion_matrix\n",
    "from sklearn.metrics import accuracy_score\n",
    "from sklearn.linear_model import LogisticRegression\n",
    "from sklearn.tree import DecisionTreeClassifier\n",
    "from sklearn.neighbors import KNeighborsClassifier\n",
    "from sklearn.discriminant_analysis import LinearDiscriminantAnalysis\n",
    "from sklearn.naive_bayes import GaussianNB\n",
    "from sklearn.svm import SVC\n",
    "from sklearn.model_selection import train_test_split\n",
    "from sklearn.linear_model import LinearRegression\n",
    "from sklearn.linear_model import LogisticRegression\n",
    "import numpy as np\n",
    "import pandas as pd\n",
    "from sklearn.preprocessing import StandardScaler\n",
    "from sklearn.metrics import f1_score\n",
    "from sklearn.metrics import accuracy_score\n",
    "%matplotlib inline\n",
    "import seaborn as sns\n",
    "import pandas as pd\n",
    "from sklearn.naive_bayes import GaussianNB\n",
    "from sklearn.model_selection import train_test_split\n",
    "from sklearn.preprocessing import LabelEncoder\n"
   ]
  },
  {
   "cell_type": "code",
   "execution_count": 154,
   "metadata": {},
   "outputs": [
    {
     "data": {
      "text/html": [
       "<div>\n",
       "<style scoped>\n",
       "    .dataframe tbody tr th:only-of-type {\n",
       "        vertical-align: middle;\n",
       "    }\n",
       "\n",
       "    .dataframe tbody tr th {\n",
       "        vertical-align: top;\n",
       "    }\n",
       "\n",
       "    .dataframe thead th {\n",
       "        text-align: right;\n",
       "    }\n",
       "</style>\n",
       "<table border=\"1\" class=\"dataframe\">\n",
       "  <thead>\n",
       "    <tr style=\"text-align: right;\">\n",
       "      <th></th>\n",
       "      <th>age</th>\n",
       "      <th>sex</th>\n",
       "      <th>bmi</th>\n",
       "      <th>children</th>\n",
       "      <th>smoker</th>\n",
       "      <th>region</th>\n",
       "      <th>expenses</th>\n",
       "    </tr>\n",
       "  </thead>\n",
       "  <tbody>\n",
       "    <tr>\n",
       "      <th>0</th>\n",
       "      <td>19</td>\n",
       "      <td>female</td>\n",
       "      <td>27.9</td>\n",
       "      <td>0</td>\n",
       "      <td>yes</td>\n",
       "      <td>southwest</td>\n",
       "      <td>16884.92</td>\n",
       "    </tr>\n",
       "    <tr>\n",
       "      <th>1</th>\n",
       "      <td>18</td>\n",
       "      <td>male</td>\n",
       "      <td>33.8</td>\n",
       "      <td>1</td>\n",
       "      <td>no</td>\n",
       "      <td>southeast</td>\n",
       "      <td>1725.55</td>\n",
       "    </tr>\n",
       "    <tr>\n",
       "      <th>2</th>\n",
       "      <td>28</td>\n",
       "      <td>male</td>\n",
       "      <td>33.0</td>\n",
       "      <td>3</td>\n",
       "      <td>no</td>\n",
       "      <td>southeast</td>\n",
       "      <td>4449.46</td>\n",
       "    </tr>\n",
       "    <tr>\n",
       "      <th>3</th>\n",
       "      <td>33</td>\n",
       "      <td>male</td>\n",
       "      <td>22.7</td>\n",
       "      <td>0</td>\n",
       "      <td>no</td>\n",
       "      <td>northwest</td>\n",
       "      <td>21984.47</td>\n",
       "    </tr>\n",
       "    <tr>\n",
       "      <th>4</th>\n",
       "      <td>32</td>\n",
       "      <td>male</td>\n",
       "      <td>28.9</td>\n",
       "      <td>0</td>\n",
       "      <td>no</td>\n",
       "      <td>northwest</td>\n",
       "      <td>3866.86</td>\n",
       "    </tr>\n",
       "    <tr>\n",
       "      <th>...</th>\n",
       "      <td>...</td>\n",
       "      <td>...</td>\n",
       "      <td>...</td>\n",
       "      <td>...</td>\n",
       "      <td>...</td>\n",
       "      <td>...</td>\n",
       "      <td>...</td>\n",
       "    </tr>\n",
       "    <tr>\n",
       "      <th>1333</th>\n",
       "      <td>50</td>\n",
       "      <td>male</td>\n",
       "      <td>31.0</td>\n",
       "      <td>3</td>\n",
       "      <td>no</td>\n",
       "      <td>northwest</td>\n",
       "      <td>10600.55</td>\n",
       "    </tr>\n",
       "    <tr>\n",
       "      <th>1334</th>\n",
       "      <td>18</td>\n",
       "      <td>female</td>\n",
       "      <td>31.9</td>\n",
       "      <td>0</td>\n",
       "      <td>no</td>\n",
       "      <td>northeast</td>\n",
       "      <td>2205.98</td>\n",
       "    </tr>\n",
       "    <tr>\n",
       "      <th>1335</th>\n",
       "      <td>18</td>\n",
       "      <td>female</td>\n",
       "      <td>36.9</td>\n",
       "      <td>0</td>\n",
       "      <td>no</td>\n",
       "      <td>southeast</td>\n",
       "      <td>1629.83</td>\n",
       "    </tr>\n",
       "    <tr>\n",
       "      <th>1336</th>\n",
       "      <td>21</td>\n",
       "      <td>female</td>\n",
       "      <td>25.8</td>\n",
       "      <td>0</td>\n",
       "      <td>no</td>\n",
       "      <td>southwest</td>\n",
       "      <td>2007.95</td>\n",
       "    </tr>\n",
       "    <tr>\n",
       "      <th>1337</th>\n",
       "      <td>61</td>\n",
       "      <td>female</td>\n",
       "      <td>29.1</td>\n",
       "      <td>0</td>\n",
       "      <td>yes</td>\n",
       "      <td>northwest</td>\n",
       "      <td>29141.36</td>\n",
       "    </tr>\n",
       "  </tbody>\n",
       "</table>\n",
       "<p>1338 rows × 7 columns</p>\n",
       "</div>"
      ],
      "text/plain": [
       "      age     sex   bmi  children smoker     region  expenses\n",
       "0      19  female  27.9         0    yes  southwest  16884.92\n",
       "1      18    male  33.8         1     no  southeast   1725.55\n",
       "2      28    male  33.0         3     no  southeast   4449.46\n",
       "3      33    male  22.7         0     no  northwest  21984.47\n",
       "4      32    male  28.9         0     no  northwest   3866.86\n",
       "...   ...     ...   ...       ...    ...        ...       ...\n",
       "1333   50    male  31.0         3     no  northwest  10600.55\n",
       "1334   18  female  31.9         0     no  northeast   2205.98\n",
       "1335   18  female  36.9         0     no  southeast   1629.83\n",
       "1336   21  female  25.8         0     no  southwest   2007.95\n",
       "1337   61  female  29.1         0    yes  northwest  29141.36\n",
       "\n",
       "[1338 rows x 7 columns]"
      ]
     },
     "execution_count": 154,
     "metadata": {},
     "output_type": "execute_result"
    }
   ],
   "source": [
    "df=pd.read_csv('file:///C:/Users/Md%20Asif%20Ikbal/Downloads/insurance%20(1).csv')\n",
    "df"
   ]
  },
  {
   "cell_type": "code",
   "execution_count": 155,
   "metadata": {},
   "outputs": [
    {
     "data": {
      "text/plain": [
       "(1338, 7)"
      ]
     },
     "execution_count": 155,
     "metadata": {},
     "output_type": "execute_result"
    }
   ],
   "source": [
    "df.shape"
   ]
  },
  {
   "cell_type": "code",
   "execution_count": 156,
   "metadata": {},
   "outputs": [],
   "source": [
    "from sklearn.preprocessing import LabelEncoder"
   ]
  },
  {
   "cell_type": "code",
   "execution_count": 157,
   "metadata": {},
   "outputs": [],
   "source": [
    "la=LabelEncoder()"
   ]
  },
  {
   "cell_type": "code",
   "execution_count": 158,
   "metadata": {},
   "outputs": [],
   "source": [
    "df['sex']=la.fit_transform(df['sex'])\n",
    "df['region']=la.fit_transform(df['region'])\n",
    "df['smoker']=la.fit_transform(df['smoker'])\n"
   ]
  },
  {
   "cell_type": "code",
   "execution_count": 159,
   "metadata": {},
   "outputs": [
    {
     "data": {
      "text/html": [
       "<div>\n",
       "<style scoped>\n",
       "    .dataframe tbody tr th:only-of-type {\n",
       "        vertical-align: middle;\n",
       "    }\n",
       "\n",
       "    .dataframe tbody tr th {\n",
       "        vertical-align: top;\n",
       "    }\n",
       "\n",
       "    .dataframe thead th {\n",
       "        text-align: right;\n",
       "    }\n",
       "</style>\n",
       "<table border=\"1\" class=\"dataframe\">\n",
       "  <thead>\n",
       "    <tr style=\"text-align: right;\">\n",
       "      <th></th>\n",
       "      <th>age</th>\n",
       "      <th>sex</th>\n",
       "      <th>bmi</th>\n",
       "      <th>children</th>\n",
       "      <th>smoker</th>\n",
       "      <th>region</th>\n",
       "      <th>expenses</th>\n",
       "    </tr>\n",
       "  </thead>\n",
       "  <tbody>\n",
       "    <tr>\n",
       "      <th>0</th>\n",
       "      <td>19</td>\n",
       "      <td>0</td>\n",
       "      <td>27.9</td>\n",
       "      <td>0</td>\n",
       "      <td>1</td>\n",
       "      <td>3</td>\n",
       "      <td>16884.92</td>\n",
       "    </tr>\n",
       "    <tr>\n",
       "      <th>1</th>\n",
       "      <td>18</td>\n",
       "      <td>1</td>\n",
       "      <td>33.8</td>\n",
       "      <td>1</td>\n",
       "      <td>0</td>\n",
       "      <td>2</td>\n",
       "      <td>1725.55</td>\n",
       "    </tr>\n",
       "    <tr>\n",
       "      <th>2</th>\n",
       "      <td>28</td>\n",
       "      <td>1</td>\n",
       "      <td>33.0</td>\n",
       "      <td>3</td>\n",
       "      <td>0</td>\n",
       "      <td>2</td>\n",
       "      <td>4449.46</td>\n",
       "    </tr>\n",
       "    <tr>\n",
       "      <th>3</th>\n",
       "      <td>33</td>\n",
       "      <td>1</td>\n",
       "      <td>22.7</td>\n",
       "      <td>0</td>\n",
       "      <td>0</td>\n",
       "      <td>1</td>\n",
       "      <td>21984.47</td>\n",
       "    </tr>\n",
       "    <tr>\n",
       "      <th>4</th>\n",
       "      <td>32</td>\n",
       "      <td>1</td>\n",
       "      <td>28.9</td>\n",
       "      <td>0</td>\n",
       "      <td>0</td>\n",
       "      <td>1</td>\n",
       "      <td>3866.86</td>\n",
       "    </tr>\n",
       "  </tbody>\n",
       "</table>\n",
       "</div>"
      ],
      "text/plain": [
       "   age  sex   bmi  children  smoker  region  expenses\n",
       "0   19    0  27.9         0       1       3  16884.92\n",
       "1   18    1  33.8         1       0       2   1725.55\n",
       "2   28    1  33.0         3       0       2   4449.46\n",
       "3   33    1  22.7         0       0       1  21984.47\n",
       "4   32    1  28.9         0       0       1   3866.86"
      ]
     },
     "execution_count": 159,
     "metadata": {},
     "output_type": "execute_result"
    }
   ],
   "source": [
    "df.head()"
   ]
  },
  {
   "cell_type": "code",
   "execution_count": 160,
   "metadata": {},
   "outputs": [
    {
     "name": "stdout",
     "output_type": "stream",
     "text": [
      "<class 'pandas.core.frame.DataFrame'>\n",
      "RangeIndex: 1338 entries, 0 to 1337\n",
      "Data columns (total 7 columns):\n",
      " #   Column    Non-Null Count  Dtype  \n",
      "---  ------    --------------  -----  \n",
      " 0   age       1338 non-null   int64  \n",
      " 1   sex       1338 non-null   int32  \n",
      " 2   bmi       1338 non-null   float64\n",
      " 3   children  1338 non-null   int64  \n",
      " 4   smoker    1338 non-null   int32  \n",
      " 5   region    1338 non-null   int32  \n",
      " 6   expenses  1338 non-null   float64\n",
      "dtypes: float64(2), int32(3), int64(2)\n",
      "memory usage: 57.6 KB\n"
     ]
    }
   ],
   "source": [
    "df.info()"
   ]
  },
  {
   "cell_type": "code",
   "execution_count": 161,
   "metadata": {},
   "outputs": [
    {
     "data": {
      "text/plain": [
       "age           int64\n",
       "sex           int32\n",
       "bmi         float64\n",
       "children      int64\n",
       "smoker        int32\n",
       "region        int32\n",
       "expenses    float64\n",
       "dtype: object"
      ]
     },
     "execution_count": 161,
     "metadata": {},
     "output_type": "execute_result"
    }
   ],
   "source": [
    "df.dtypes"
   ]
  },
  {
   "cell_type": "code",
   "execution_count": 162,
   "metadata": {},
   "outputs": [
    {
     "data": {
      "text/html": [
       "<div>\n",
       "<style scoped>\n",
       "    .dataframe tbody tr th:only-of-type {\n",
       "        vertical-align: middle;\n",
       "    }\n",
       "\n",
       "    .dataframe tbody tr th {\n",
       "        vertical-align: top;\n",
       "    }\n",
       "\n",
       "    .dataframe thead th {\n",
       "        text-align: right;\n",
       "    }\n",
       "</style>\n",
       "<table border=\"1\" class=\"dataframe\">\n",
       "  <thead>\n",
       "    <tr style=\"text-align: right;\">\n",
       "      <th></th>\n",
       "      <th>age</th>\n",
       "      <th>sex</th>\n",
       "      <th>bmi</th>\n",
       "      <th>children</th>\n",
       "      <th>smoker</th>\n",
       "      <th>region</th>\n",
       "      <th>expenses</th>\n",
       "    </tr>\n",
       "  </thead>\n",
       "  <tbody>\n",
       "    <tr>\n",
       "      <th>0</th>\n",
       "      <td>19</td>\n",
       "      <td>0</td>\n",
       "      <td>27.9</td>\n",
       "      <td>0</td>\n",
       "      <td>1</td>\n",
       "      <td>3</td>\n",
       "      <td>16884.92</td>\n",
       "    </tr>\n",
       "    <tr>\n",
       "      <th>1</th>\n",
       "      <td>18</td>\n",
       "      <td>1</td>\n",
       "      <td>33.8</td>\n",
       "      <td>1</td>\n",
       "      <td>0</td>\n",
       "      <td>2</td>\n",
       "      <td>1725.55</td>\n",
       "    </tr>\n",
       "    <tr>\n",
       "      <th>2</th>\n",
       "      <td>28</td>\n",
       "      <td>1</td>\n",
       "      <td>33.0</td>\n",
       "      <td>3</td>\n",
       "      <td>0</td>\n",
       "      <td>2</td>\n",
       "      <td>4449.46</td>\n",
       "    </tr>\n",
       "    <tr>\n",
       "      <th>3</th>\n",
       "      <td>33</td>\n",
       "      <td>1</td>\n",
       "      <td>22.7</td>\n",
       "      <td>0</td>\n",
       "      <td>0</td>\n",
       "      <td>1</td>\n",
       "      <td>21984.47</td>\n",
       "    </tr>\n",
       "    <tr>\n",
       "      <th>4</th>\n",
       "      <td>32</td>\n",
       "      <td>1</td>\n",
       "      <td>28.9</td>\n",
       "      <td>0</td>\n",
       "      <td>0</td>\n",
       "      <td>1</td>\n",
       "      <td>3866.86</td>\n",
       "    </tr>\n",
       "    <tr>\n",
       "      <th>...</th>\n",
       "      <td>...</td>\n",
       "      <td>...</td>\n",
       "      <td>...</td>\n",
       "      <td>...</td>\n",
       "      <td>...</td>\n",
       "      <td>...</td>\n",
       "      <td>...</td>\n",
       "    </tr>\n",
       "    <tr>\n",
       "      <th>1333</th>\n",
       "      <td>50</td>\n",
       "      <td>1</td>\n",
       "      <td>31.0</td>\n",
       "      <td>3</td>\n",
       "      <td>0</td>\n",
       "      <td>1</td>\n",
       "      <td>10600.55</td>\n",
       "    </tr>\n",
       "    <tr>\n",
       "      <th>1334</th>\n",
       "      <td>18</td>\n",
       "      <td>0</td>\n",
       "      <td>31.9</td>\n",
       "      <td>0</td>\n",
       "      <td>0</td>\n",
       "      <td>0</td>\n",
       "      <td>2205.98</td>\n",
       "    </tr>\n",
       "    <tr>\n",
       "      <th>1335</th>\n",
       "      <td>18</td>\n",
       "      <td>0</td>\n",
       "      <td>36.9</td>\n",
       "      <td>0</td>\n",
       "      <td>0</td>\n",
       "      <td>2</td>\n",
       "      <td>1629.83</td>\n",
       "    </tr>\n",
       "    <tr>\n",
       "      <th>1336</th>\n",
       "      <td>21</td>\n",
       "      <td>0</td>\n",
       "      <td>25.8</td>\n",
       "      <td>0</td>\n",
       "      <td>0</td>\n",
       "      <td>3</td>\n",
       "      <td>2007.95</td>\n",
       "    </tr>\n",
       "    <tr>\n",
       "      <th>1337</th>\n",
       "      <td>61</td>\n",
       "      <td>0</td>\n",
       "      <td>29.1</td>\n",
       "      <td>0</td>\n",
       "      <td>1</td>\n",
       "      <td>1</td>\n",
       "      <td>29141.36</td>\n",
       "    </tr>\n",
       "  </tbody>\n",
       "</table>\n",
       "<p>1338 rows × 7 columns</p>\n",
       "</div>"
      ],
      "text/plain": [
       "      age  sex   bmi  children  smoker  region  expenses\n",
       "0      19    0  27.9         0       1       3  16884.92\n",
       "1      18    1  33.8         1       0       2   1725.55\n",
       "2      28    1  33.0         3       0       2   4449.46\n",
       "3      33    1  22.7         0       0       1  21984.47\n",
       "4      32    1  28.9         0       0       1   3866.86\n",
       "...   ...  ...   ...       ...     ...     ...       ...\n",
       "1333   50    1  31.0         3       0       1  10600.55\n",
       "1334   18    0  31.9         0       0       0   2205.98\n",
       "1335   18    0  36.9         0       0       2   1629.83\n",
       "1336   21    0  25.8         0       0       3   2007.95\n",
       "1337   61    0  29.1         0       1       1  29141.36\n",
       "\n",
       "[1338 rows x 7 columns]"
      ]
     },
     "execution_count": 162,
     "metadata": {},
     "output_type": "execute_result"
    }
   ],
   "source": [
    "df.infer_objects()"
   ]
  },
  {
   "cell_type": "code",
   "execution_count": 163,
   "metadata": {},
   "outputs": [
    {
     "data": {
      "text/html": [
       "<div>\n",
       "<style scoped>\n",
       "    .dataframe tbody tr th:only-of-type {\n",
       "        vertical-align: middle;\n",
       "    }\n",
       "\n",
       "    .dataframe tbody tr th {\n",
       "        vertical-align: top;\n",
       "    }\n",
       "\n",
       "    .dataframe thead th {\n",
       "        text-align: right;\n",
       "    }\n",
       "</style>\n",
       "<table border=\"1\" class=\"dataframe\">\n",
       "  <thead>\n",
       "    <tr style=\"text-align: right;\">\n",
       "      <th></th>\n",
       "      <th>age</th>\n",
       "      <th>sex</th>\n",
       "      <th>bmi</th>\n",
       "      <th>children</th>\n",
       "      <th>smoker</th>\n",
       "      <th>region</th>\n",
       "      <th>expenses</th>\n",
       "    </tr>\n",
       "  </thead>\n",
       "  <tbody>\n",
       "    <tr>\n",
       "      <th>count</th>\n",
       "      <td>1338.000000</td>\n",
       "      <td>1338.000000</td>\n",
       "      <td>1338.000000</td>\n",
       "      <td>1338.000000</td>\n",
       "      <td>1338.000000</td>\n",
       "      <td>1338.000000</td>\n",
       "      <td>1338.000000</td>\n",
       "    </tr>\n",
       "    <tr>\n",
       "      <th>mean</th>\n",
       "      <td>39.207025</td>\n",
       "      <td>0.505232</td>\n",
       "      <td>30.665471</td>\n",
       "      <td>1.094918</td>\n",
       "      <td>0.204783</td>\n",
       "      <td>1.515695</td>\n",
       "      <td>13270.422414</td>\n",
       "    </tr>\n",
       "    <tr>\n",
       "      <th>std</th>\n",
       "      <td>14.049960</td>\n",
       "      <td>0.500160</td>\n",
       "      <td>6.098382</td>\n",
       "      <td>1.205493</td>\n",
       "      <td>0.403694</td>\n",
       "      <td>1.104885</td>\n",
       "      <td>12110.011240</td>\n",
       "    </tr>\n",
       "    <tr>\n",
       "      <th>min</th>\n",
       "      <td>18.000000</td>\n",
       "      <td>0.000000</td>\n",
       "      <td>16.000000</td>\n",
       "      <td>0.000000</td>\n",
       "      <td>0.000000</td>\n",
       "      <td>0.000000</td>\n",
       "      <td>1121.870000</td>\n",
       "    </tr>\n",
       "    <tr>\n",
       "      <th>25%</th>\n",
       "      <td>27.000000</td>\n",
       "      <td>0.000000</td>\n",
       "      <td>26.300000</td>\n",
       "      <td>0.000000</td>\n",
       "      <td>0.000000</td>\n",
       "      <td>1.000000</td>\n",
       "      <td>4740.287500</td>\n",
       "    </tr>\n",
       "    <tr>\n",
       "      <th>50%</th>\n",
       "      <td>39.000000</td>\n",
       "      <td>1.000000</td>\n",
       "      <td>30.400000</td>\n",
       "      <td>1.000000</td>\n",
       "      <td>0.000000</td>\n",
       "      <td>2.000000</td>\n",
       "      <td>9382.030000</td>\n",
       "    </tr>\n",
       "    <tr>\n",
       "      <th>75%</th>\n",
       "      <td>51.000000</td>\n",
       "      <td>1.000000</td>\n",
       "      <td>34.700000</td>\n",
       "      <td>2.000000</td>\n",
       "      <td>0.000000</td>\n",
       "      <td>2.000000</td>\n",
       "      <td>16639.915000</td>\n",
       "    </tr>\n",
       "    <tr>\n",
       "      <th>max</th>\n",
       "      <td>64.000000</td>\n",
       "      <td>1.000000</td>\n",
       "      <td>53.100000</td>\n",
       "      <td>5.000000</td>\n",
       "      <td>1.000000</td>\n",
       "      <td>3.000000</td>\n",
       "      <td>63770.430000</td>\n",
       "    </tr>\n",
       "  </tbody>\n",
       "</table>\n",
       "</div>"
      ],
      "text/plain": [
       "               age          sex          bmi     children       smoker  \\\n",
       "count  1338.000000  1338.000000  1338.000000  1338.000000  1338.000000   \n",
       "mean     39.207025     0.505232    30.665471     1.094918     0.204783   \n",
       "std      14.049960     0.500160     6.098382     1.205493     0.403694   \n",
       "min      18.000000     0.000000    16.000000     0.000000     0.000000   \n",
       "25%      27.000000     0.000000    26.300000     0.000000     0.000000   \n",
       "50%      39.000000     1.000000    30.400000     1.000000     0.000000   \n",
       "75%      51.000000     1.000000    34.700000     2.000000     0.000000   \n",
       "max      64.000000     1.000000    53.100000     5.000000     1.000000   \n",
       "\n",
       "            region      expenses  \n",
       "count  1338.000000   1338.000000  \n",
       "mean      1.515695  13270.422414  \n",
       "std       1.104885  12110.011240  \n",
       "min       0.000000   1121.870000  \n",
       "25%       1.000000   4740.287500  \n",
       "50%       2.000000   9382.030000  \n",
       "75%       2.000000  16639.915000  \n",
       "max       3.000000  63770.430000  "
      ]
     },
     "execution_count": 163,
     "metadata": {},
     "output_type": "execute_result"
    }
   ],
   "source": [
    "df.describe()"
   ]
  },
  {
   "cell_type": "code",
   "execution_count": 164,
   "metadata": {},
   "outputs": [
    {
     "data": {
      "text/html": [
       "<div>\n",
       "<style scoped>\n",
       "    .dataframe tbody tr th:only-of-type {\n",
       "        vertical-align: middle;\n",
       "    }\n",
       "\n",
       "    .dataframe tbody tr th {\n",
       "        vertical-align: top;\n",
       "    }\n",
       "\n",
       "    .dataframe thead th {\n",
       "        text-align: right;\n",
       "    }\n",
       "</style>\n",
       "<table border=\"1\" class=\"dataframe\">\n",
       "  <thead>\n",
       "    <tr style=\"text-align: right;\">\n",
       "      <th></th>\n",
       "      <th>age</th>\n",
       "      <th>sex</th>\n",
       "      <th>bmi</th>\n",
       "      <th>children</th>\n",
       "      <th>smoker</th>\n",
       "      <th>region</th>\n",
       "      <th>expenses</th>\n",
       "    </tr>\n",
       "  </thead>\n",
       "  <tbody>\n",
       "    <tr>\n",
       "      <th>count</th>\n",
       "      <td>7.000000</td>\n",
       "      <td>7.000000</td>\n",
       "      <td>7.000000</td>\n",
       "      <td>7.000000</td>\n",
       "      <td>7.000000</td>\n",
       "      <td>7.000000</td>\n",
       "      <td>7.000000</td>\n",
       "    </tr>\n",
       "    <tr>\n",
       "      <th>mean</th>\n",
       "      <td>0.201010</td>\n",
       "      <td>0.168679</td>\n",
       "      <td>0.218336</td>\n",
       "      <td>0.166360</td>\n",
       "      <td>0.263983</td>\n",
       "      <td>0.167476</td>\n",
       "      <td>0.343417</td>\n",
       "    </tr>\n",
       "    <tr>\n",
       "      <th>std</th>\n",
       "      <td>0.369999</td>\n",
       "      <td>0.368063</td>\n",
       "      <td>0.352328</td>\n",
       "      <td>0.368213</td>\n",
       "      <td>0.435597</td>\n",
       "      <td>0.371661</td>\n",
       "      <td>0.393912</td>\n",
       "    </tr>\n",
       "    <tr>\n",
       "      <th>min</th>\n",
       "      <td>-0.025019</td>\n",
       "      <td>-0.020856</td>\n",
       "      <td>0.003968</td>\n",
       "      <td>0.007673</td>\n",
       "      <td>-0.025019</td>\n",
       "      <td>-0.006208</td>\n",
       "      <td>-0.006208</td>\n",
       "    </tr>\n",
       "    <tr>\n",
       "      <th>25%</th>\n",
       "      <td>-0.009364</td>\n",
       "      <td>0.010876</td>\n",
       "      <td>0.029512</td>\n",
       "      <td>0.014607</td>\n",
       "      <td>0.000894</td>\n",
       "      <td>-0.000027</td>\n",
       "      <td>0.062645</td>\n",
       "    </tr>\n",
       "    <tr>\n",
       "      <th>50%</th>\n",
       "      <td>0.042469</td>\n",
       "      <td>0.046380</td>\n",
       "      <td>0.109341</td>\n",
       "      <td>0.017163</td>\n",
       "      <td>0.007673</td>\n",
       "      <td>0.004588</td>\n",
       "      <td>0.198576</td>\n",
       "    </tr>\n",
       "    <tr>\n",
       "      <th>75%</th>\n",
       "      <td>0.204175</td>\n",
       "      <td>0.066738</td>\n",
       "      <td>0.178008</td>\n",
       "      <td>0.055234</td>\n",
       "      <td>0.431718</td>\n",
       "      <td>0.087004</td>\n",
       "      <td>0.543130</td>\n",
       "    </tr>\n",
       "    <tr>\n",
       "      <th>max</th>\n",
       "      <td>1.000000</td>\n",
       "      <td>1.000000</td>\n",
       "      <td>1.000000</td>\n",
       "      <td>1.000000</td>\n",
       "      <td>1.000000</td>\n",
       "      <td>1.000000</td>\n",
       "      <td>1.000000</td>\n",
       "    </tr>\n",
       "  </tbody>\n",
       "</table>\n",
       "</div>"
      ],
      "text/plain": [
       "            age       sex       bmi  children    smoker    region  expenses\n",
       "count  7.000000  7.000000  7.000000  7.000000  7.000000  7.000000  7.000000\n",
       "mean   0.201010  0.168679  0.218336  0.166360  0.263983  0.167476  0.343417\n",
       "std    0.369999  0.368063  0.352328  0.368213  0.435597  0.371661  0.393912\n",
       "min   -0.025019 -0.020856  0.003968  0.007673 -0.025019 -0.006208 -0.006208\n",
       "25%   -0.009364  0.010876  0.029512  0.014607  0.000894 -0.000027  0.062645\n",
       "50%    0.042469  0.046380  0.109341  0.017163  0.007673  0.004588  0.198576\n",
       "75%    0.204175  0.066738  0.178008  0.055234  0.431718  0.087004  0.543130\n",
       "max    1.000000  1.000000  1.000000  1.000000  1.000000  1.000000  1.000000"
      ]
     },
     "execution_count": 164,
     "metadata": {},
     "output_type": "execute_result"
    }
   ],
   "source": [
    "df.corr().describe()"
   ]
  },
  {
   "cell_type": "code",
   "execution_count": 165,
   "metadata": {},
   "outputs": [
    {
     "data": {
      "text/plain": [
       "age           18.00\n",
       "sex            0.00\n",
       "bmi           16.00\n",
       "children       0.00\n",
       "smoker         0.00\n",
       "region         0.00\n",
       "expenses    1121.87\n",
       "dtype: float64"
      ]
     },
     "execution_count": 165,
     "metadata": {},
     "output_type": "execute_result"
    }
   ],
   "source": [
    "df.min()"
   ]
  },
  {
   "cell_type": "code",
   "execution_count": 166,
   "metadata": {},
   "outputs": [
    {
     "data": {
      "text/plain": [
       "age            39.207025\n",
       "sex             0.505232\n",
       "bmi            30.665471\n",
       "children        1.094918\n",
       "smoker          0.204783\n",
       "region          1.515695\n",
       "expenses    13270.422414\n",
       "dtype: float64"
      ]
     },
     "execution_count": 166,
     "metadata": {},
     "output_type": "execute_result"
    }
   ],
   "source": [
    "df.mean()"
   ]
  },
  {
   "cell_type": "code",
   "execution_count": 167,
   "metadata": {},
   "outputs": [
    {
     "data": {
      "text/plain": [
       "age            64.00\n",
       "sex             1.00\n",
       "bmi            53.10\n",
       "children        5.00\n",
       "smoker          1.00\n",
       "region          3.00\n",
       "expenses    63770.43\n",
       "dtype: float64"
      ]
     },
     "execution_count": 167,
     "metadata": {},
     "output_type": "execute_result"
    }
   ],
   "source": [
    "df.max()"
   ]
  },
  {
   "cell_type": "code",
   "execution_count": 168,
   "metadata": {},
   "outputs": [
    {
     "data": {
      "text/plain": [
       "Index(['age', 'sex', 'bmi', 'children', 'smoker', 'region', 'expenses'], dtype='object')"
      ]
     },
     "execution_count": 168,
     "metadata": {},
     "output_type": "execute_result"
    }
   ],
   "source": [
    "df.columns"
   ]
  },
  {
   "cell_type": "code",
   "execution_count": 169,
   "metadata": {},
   "outputs": [],
   "source": [
    "x=df.drop(['age'],axis='columns')"
   ]
  },
  {
   "cell_type": "code",
   "execution_count": 170,
   "metadata": {},
   "outputs": [],
   "source": [
    "y=df.age.values"
   ]
  },
  {
   "cell_type": "code",
   "execution_count": 171,
   "metadata": {},
   "outputs": [],
   "source": [
    "xtrain,xtest,ytrain,ytest=train_test_split(x,y,test_size=0.2)"
   ]
  },
  {
   "cell_type": "code",
   "execution_count": 172,
   "metadata": {},
   "outputs": [],
   "source": [
    "tre=DecisionTreeClassifier()"
   ]
  },
  {
   "cell_type": "code",
   "execution_count": 173,
   "metadata": {},
   "outputs": [
    {
     "data": {
      "text/plain": [
       "32.08955223880597"
      ]
     },
     "execution_count": 173,
     "metadata": {},
     "output_type": "execute_result"
    }
   ],
   "source": [
    "tre.fit(xtrain,ytrain)\n",
    "pred_tre=tre.predict(xtest)\n",
    "accu_tre=accuracy_score(ytest,pred_tre)*100\n",
    "accu_tre"
   ]
  },
  {
   "cell_type": "code",
   "execution_count": 174,
   "metadata": {},
   "outputs": [
    {
     "name": "stdout",
     "output_type": "stream",
     "text": [
      "              precision    recall  f1-score   support\n",
      "\n",
      "          18       0.92      0.58      0.71        19\n",
      "          19       0.53      0.64      0.58        14\n",
      "          20       0.00      0.00      0.00         2\n",
      "          21       0.17      0.17      0.17         6\n",
      "          22       1.00      0.50      0.67         6\n",
      "          23       0.25      0.20      0.22         5\n",
      "          24       0.50      0.17      0.25         6\n",
      "          25       0.25      0.50      0.33         4\n",
      "          26       0.33      0.22      0.27         9\n",
      "          27       0.00      0.00      0.00         8\n",
      "          28       0.17      0.20      0.18         5\n",
      "          29       0.20      0.12      0.15         8\n",
      "          30       0.20      0.25      0.22         4\n",
      "          31       0.40      0.29      0.33         7\n",
      "          32       0.25      0.33      0.29         3\n",
      "          33       0.14      0.50      0.22         2\n",
      "          34       0.25      0.20      0.22         5\n",
      "          35       0.40      0.67      0.50         3\n",
      "          36       0.43      0.50      0.46         6\n",
      "          37       0.17      0.17      0.17         6\n",
      "          38       0.50      0.40      0.44         5\n",
      "          39       0.50      0.22      0.31         9\n",
      "          40       0.00      0.00      0.00         4\n",
      "          41       0.20      0.17      0.18         6\n",
      "          42       0.50      0.50      0.50         6\n",
      "          43       0.20      0.25      0.22         4\n",
      "          44       0.43      0.43      0.43         7\n",
      "          45       0.40      0.50      0.44         4\n",
      "          46       0.00      0.00      0.00         3\n",
      "          47       0.17      0.14      0.15         7\n",
      "          48       0.20      0.25      0.22         8\n",
      "          49       0.14      0.12      0.13         8\n",
      "          50       0.00      0.00      0.00         2\n",
      "          51       0.25      0.50      0.33         6\n",
      "          52       0.25      0.11      0.15         9\n",
      "          53       0.50      0.33      0.40         6\n",
      "          54       0.20      0.67      0.31         3\n",
      "          55       0.00      0.00      0.00         3\n",
      "          56       0.25      1.00      0.40         2\n",
      "          57       0.00      0.00      0.00         6\n",
      "          58       0.71      0.62      0.67         8\n",
      "          59       0.00      0.00      0.00         3\n",
      "          60       0.50      0.14      0.22         7\n",
      "          61       0.00      0.00      0.00         2\n",
      "          62       0.75      0.75      0.75         4\n",
      "          63       1.00      0.67      0.80         6\n",
      "          64       0.25      0.50      0.33         2\n",
      "\n",
      "    accuracy                           0.32       268\n",
      "   macro avg       0.31      0.31      0.28       268\n",
      "weighted avg       0.37      0.32      0.33       268\n",
      "\n"
     ]
    }
   ],
   "source": [
    "print(classification_report(ytest,pred_tre))"
   ]
  },
  {
   "cell_type": "code",
   "execution_count": 175,
   "metadata": {},
   "outputs": [
    {
     "name": "stderr",
     "output_type": "stream",
     "text": [
      "C:\\Users\\Md Asif Ikbal\\anaconda3\\lib\\site-packages\\sklearn\\linear_model\\_logistic.py:940: ConvergenceWarning: lbfgs failed to converge (status=1):\n",
      "STOP: TOTAL NO. of ITERATIONS REACHED LIMIT.\n",
      "\n",
      "Increase the number of iterations (max_iter) or scale the data as shown in:\n",
      "    https://scikit-learn.org/stable/modules/preprocessing.html\n",
      "Please also refer to the documentation for alternative solver options:\n",
      "    https://scikit-learn.org/stable/modules/linear_model.html#logistic-regression\n",
      "  extra_warning_msg=_LOGISTIC_SOLVER_CONVERGENCE_MSG)\n"
     ]
    },
    {
     "data": {
      "text/plain": [
       "5.223880597014925"
      ]
     },
     "execution_count": 175,
     "metadata": {},
     "output_type": "execute_result"
    }
   ],
   "source": [
    "lo=LogisticRegression()\n",
    "lo.fit(xtrain,ytrain)\n",
    "pred_lo=lo.predict(xtest)\n",
    "accu_lo=accuracy_score(ytest,pred_lo)*100\n",
    "accu_lo"
   ]
  },
  {
   "cell_type": "code",
   "execution_count": 176,
   "metadata": {},
   "outputs": [
    {
     "name": "stdout",
     "output_type": "stream",
     "text": [
      "              precision    recall  f1-score   support\n",
      "\n",
      "          18       0.11      0.68      0.18        19\n",
      "          19       0.01      0.07      0.02        14\n",
      "          20       0.00      0.00      0.00         2\n",
      "          21       0.00      0.00      0.00         6\n",
      "          22       0.00      0.00      0.00         6\n",
      "          23       0.00      0.00      0.00         5\n",
      "          24       0.00      0.00      0.00         6\n",
      "          25       0.00      0.00      0.00         4\n",
      "          26       0.00      0.00      0.00         9\n",
      "          27       0.00      0.00      0.00         8\n",
      "          28       0.00      0.00      0.00         5\n",
      "          29       0.00      0.00      0.00         8\n",
      "          30       0.00      0.00      0.00         4\n",
      "          31       0.00      0.00      0.00         7\n",
      "          32       0.00      0.00      0.00         3\n",
      "          33       0.00      0.00      0.00         2\n",
      "          34       0.00      0.00      0.00         5\n",
      "          35       0.00      0.00      0.00         3\n",
      "          36       0.00      0.00      0.00         6\n",
      "          37       0.00      0.00      0.00         6\n",
      "          38       0.00      0.00      0.00         5\n",
      "          39       0.00      0.00      0.00         9\n",
      "          40       0.00      0.00      0.00         4\n",
      "          41       0.00      0.00      0.00         6\n",
      "          42       0.00      0.00      0.00         6\n",
      "          43       0.00      0.00      0.00         4\n",
      "          44       0.00      0.00      0.00         7\n",
      "          45       0.00      0.00      0.00         4\n",
      "          46       0.00      0.00      0.00         3\n",
      "          47       0.00      0.00      0.00         7\n",
      "          48       0.00      0.00      0.00         8\n",
      "          49       0.00      0.00      0.00         8\n",
      "          50       0.00      0.00      0.00         2\n",
      "          51       0.00      0.00      0.00         6\n",
      "          52       0.00      0.00      0.00         9\n",
      "          53       0.00      0.00      0.00         6\n",
      "          54       0.00      0.00      0.00         3\n",
      "          55       0.00      0.00      0.00         3\n",
      "          56       0.00      0.00      0.00         2\n",
      "          57       0.00      0.00      0.00         6\n",
      "          58       0.00      0.00      0.00         8\n",
      "          59       0.00      0.00      0.00         3\n",
      "          60       0.00      0.00      0.00         7\n",
      "          61       0.00      0.00      0.00         2\n",
      "          62       0.00      0.00      0.00         4\n",
      "          63       0.00      0.00      0.00         6\n",
      "          64       0.00      0.00      0.00         2\n",
      "\n",
      "    accuracy                           0.05       268\n",
      "   macro avg       0.00      0.02      0.00       268\n",
      "weighted avg       0.01      0.05      0.01       268\n",
      "\n"
     ]
    },
    {
     "name": "stderr",
     "output_type": "stream",
     "text": [
      "C:\\Users\\Md Asif Ikbal\\anaconda3\\lib\\site-packages\\sklearn\\metrics\\_classification.py:1272: UndefinedMetricWarning: Precision and F-score are ill-defined and being set to 0.0 in labels with no predicted samples. Use `zero_division` parameter to control this behavior.\n",
      "  _warn_prf(average, modifier, msg_start, len(result))\n"
     ]
    }
   ],
   "source": [
    "print(classification_report(ytest,pred_lo))"
   ]
  },
  {
   "cell_type": "code",
   "execution_count": 177,
   "metadata": {},
   "outputs": [],
   "source": [
    "from sklearn.neighbors import KNeighborsClassifier"
   ]
  },
  {
   "cell_type": "code",
   "execution_count": 178,
   "metadata": {},
   "outputs": [],
   "source": [
    "kne=KNeighborsClassifier()"
   ]
  },
  {
   "cell_type": "code",
   "execution_count": 179,
   "metadata": {},
   "outputs": [
    {
     "data": {
      "text/plain": [
       "21.26865671641791"
      ]
     },
     "execution_count": 179,
     "metadata": {},
     "output_type": "execute_result"
    }
   ],
   "source": [
    "kne.fit(xtrain,ytrain)\n",
    "pred_kne=kne.predict(xtest)\n",
    "accu_kne=accuracy_score(ytest,pred_kne)*100\n",
    "accu_kne"
   ]
  },
  {
   "cell_type": "code",
   "execution_count": 180,
   "metadata": {},
   "outputs": [
    {
     "name": "stdout",
     "output_type": "stream",
     "text": [
      "              precision    recall  f1-score   support\n",
      "\n",
      "          18       0.73      0.58      0.65        19\n",
      "          19       0.25      0.50      0.33        14\n",
      "          20       0.06      0.50      0.10         2\n",
      "          21       0.50      0.33      0.40         6\n",
      "          22       0.33      0.33      0.33         6\n",
      "          23       0.00      0.00      0.00         5\n",
      "          24       0.00      0.00      0.00         6\n",
      "          25       0.00      0.00      0.00         4\n",
      "          26       0.50      0.22      0.31         9\n",
      "          27       0.00      0.00      0.00         8\n",
      "          28       0.17      0.20      0.18         5\n",
      "          29       0.00      0.00      0.00         8\n",
      "          30       0.00      0.00      0.00         4\n",
      "          31       0.00      0.00      0.00         7\n",
      "          32       0.00      0.00      0.00         3\n",
      "          33       0.25      0.50      0.33         2\n",
      "          34       0.25      0.20      0.22         5\n",
      "          35       0.08      0.33      0.13         3\n",
      "          36       1.00      0.33      0.50         6\n",
      "          37       0.00      0.00      0.00         6\n",
      "          38       0.33      0.40      0.36         5\n",
      "          39       0.33      0.11      0.17         9\n",
      "          40       0.00      0.00      0.00         4\n",
      "          41       0.25      0.17      0.20         6\n",
      "          42       0.00      0.00      0.00         6\n",
      "          43       0.00      0.00      0.00         4\n",
      "          44       0.33      0.29      0.31         7\n",
      "          45       0.20      0.25      0.22         4\n",
      "          46       0.00      0.00      0.00         3\n",
      "          47       1.00      0.14      0.25         7\n",
      "          48       1.00      0.12      0.22         8\n",
      "          49       0.17      0.12      0.14         8\n",
      "          50       0.00      0.00      0.00         2\n",
      "          51       0.40      0.33      0.36         6\n",
      "          52       0.00      0.00      0.00         9\n",
      "          53       0.50      0.33      0.40         6\n",
      "          54       0.50      1.00      0.67         3\n",
      "          55       0.14      0.33      0.20         3\n",
      "          56       0.17      0.50      0.25         2\n",
      "          57       0.00      0.00      0.00         6\n",
      "          58       0.33      0.25      0.29         8\n",
      "          59       0.00      0.00      0.00         3\n",
      "          60       0.50      0.29      0.36         7\n",
      "          61       0.00      0.00      0.00         2\n",
      "          62       0.25      0.25      0.25         4\n",
      "          63       1.00      0.33      0.50         6\n",
      "          64       0.00      0.00      0.00         2\n",
      "\n",
      "    accuracy                           0.21       268\n",
      "   macro avg       0.25      0.20      0.18       268\n",
      "weighted avg       0.31      0.21      0.22       268\n",
      "\n"
     ]
    },
    {
     "name": "stderr",
     "output_type": "stream",
     "text": [
      "C:\\Users\\Md Asif Ikbal\\anaconda3\\lib\\site-packages\\sklearn\\metrics\\_classification.py:1272: UndefinedMetricWarning: Precision and F-score are ill-defined and being set to 0.0 in labels with no predicted samples. Use `zero_division` parameter to control this behavior.\n",
      "  _warn_prf(average, modifier, msg_start, len(result))\n"
     ]
    }
   ],
   "source": [
    "print(classification_report(ytest,pred_kne))"
   ]
  },
  {
   "cell_type": "code",
   "execution_count": 181,
   "metadata": {},
   "outputs": [],
   "source": [
    "from sklearn.ensemble import AdaBoostClassifier"
   ]
  },
  {
   "cell_type": "code",
   "execution_count": 182,
   "metadata": {},
   "outputs": [
    {
     "data": {
      "text/plain": [
       "9.328358208955224"
      ]
     },
     "execution_count": 182,
     "metadata": {},
     "output_type": "execute_result"
    }
   ],
   "source": [
    "ada=AdaBoostClassifier()\n",
    "ada.fit(xtrain,ytrain)\n",
    "pred_ada=ada.predict(xtest)\n",
    "accu_ada=accuracy_score(ytest,pred_ada)*100\n",
    "accu_ada"
   ]
  },
  {
   "cell_type": "code",
   "execution_count": 183,
   "metadata": {},
   "outputs": [
    {
     "name": "stdout",
     "output_type": "stream",
     "text": [
      "              precision    recall  f1-score   support\n",
      "\n",
      "          18       0.00      0.00      0.00        19\n",
      "          19       0.14      0.79      0.23        14\n",
      "          20       0.00      0.00      0.00         2\n",
      "          21       0.00      0.00      0.00         6\n",
      "          22       0.00      0.00      0.00         6\n",
      "          23       0.00      0.00      0.00         5\n",
      "          24       0.00      0.00      0.00         6\n",
      "          25       0.00      0.00      0.00         4\n",
      "          26       0.00      0.00      0.00         9\n",
      "          27       0.00      0.00      0.00         8\n",
      "          28       0.07      0.60      0.12         5\n",
      "          29       0.00      0.00      0.00         8\n",
      "          30       0.00      0.00      0.00         4\n",
      "          31       0.00      0.00      0.00         7\n",
      "          32       0.00      0.00      0.00         3\n",
      "          33       0.00      0.00      0.00         2\n",
      "          34       0.00      0.00      0.00         5\n",
      "          35       0.00      0.00      0.00         3\n",
      "          36       0.00      0.00      0.00         6\n",
      "          37       0.00      0.00      0.00         6\n",
      "          38       0.00      0.00      0.00         5\n",
      "          39       0.00      0.00      0.00         9\n",
      "          40       0.06      0.50      0.10         4\n",
      "          41       0.14      0.17      0.15         6\n",
      "          42       0.00      0.00      0.00         6\n",
      "          43       0.00      0.00      0.00         4\n",
      "          44       0.00      0.00      0.00         7\n",
      "          45       0.00      0.00      0.00         4\n",
      "          46       0.00      0.00      0.00         3\n",
      "          47       0.00      0.00      0.00         7\n",
      "          48       0.00      0.00      0.00         8\n",
      "          49       0.00      0.00      0.00         8\n",
      "          50       0.00      0.00      0.00         2\n",
      "          51       0.11      0.17      0.13         6\n",
      "          52       0.00      0.00      0.00         9\n",
      "          53       0.00      0.00      0.00         6\n",
      "          54       0.00      0.00      0.00         3\n",
      "          55       0.00      0.00      0.00         3\n",
      "          56       0.00      0.00      0.00         2\n",
      "          57       0.00      0.00      0.00         6\n",
      "          58       0.00      0.00      0.00         8\n",
      "          59       0.02      0.33      0.03         3\n",
      "          60       0.50      0.14      0.22         7\n",
      "          61       0.00      0.00      0.00         2\n",
      "          62       0.00      0.00      0.00         4\n",
      "          63       0.36      0.83      0.50         6\n",
      "          64       0.00      0.00      0.00         2\n",
      "\n",
      "    accuracy                           0.09       268\n",
      "   macro avg       0.03      0.08      0.03       268\n",
      "weighted avg       0.04      0.09      0.04       268\n",
      "\n"
     ]
    },
    {
     "name": "stderr",
     "output_type": "stream",
     "text": [
      "C:\\Users\\Md Asif Ikbal\\anaconda3\\lib\\site-packages\\sklearn\\metrics\\_classification.py:1272: UndefinedMetricWarning: Precision and F-score are ill-defined and being set to 0.0 in labels with no predicted samples. Use `zero_division` parameter to control this behavior.\n",
      "  _warn_prf(average, modifier, msg_start, len(result))\n"
     ]
    }
   ],
   "source": [
    "print(classification_report(ytest,pred_ada))"
   ]
  },
  {
   "cell_type": "code",
   "execution_count": 184,
   "metadata": {},
   "outputs": [],
   "source": [
    "from sklearn.ensemble import BaggingClassifier"
   ]
  },
  {
   "cell_type": "code",
   "execution_count": 185,
   "metadata": {},
   "outputs": [
    {
     "data": {
      "text/plain": [
       "33.582089552238806"
      ]
     },
     "execution_count": 185,
     "metadata": {},
     "output_type": "execute_result"
    }
   ],
   "source": [
    "bag=BaggingClassifier()\n",
    "bag.fit(xtrain,ytrain)\n",
    "pred_bag=bag.predict(xtest)\n",
    "accu_bag=accuracy_score(ytest,pred_bag)*100\n",
    "accu_bag"
   ]
  },
  {
   "cell_type": "code",
   "execution_count": 186,
   "metadata": {},
   "outputs": [
    {
     "name": "stdout",
     "output_type": "stream",
     "text": [
      "              precision    recall  f1-score   support\n",
      "\n",
      "          18       0.85      0.58      0.69        19\n",
      "          19       0.64      0.64      0.64        14\n",
      "          20       0.00      0.00      0.00         2\n",
      "          21       0.25      0.17      0.20         6\n",
      "          22       0.60      0.50      0.55         6\n",
      "          23       0.20      0.20      0.20         5\n",
      "          24       0.33      0.50      0.40         6\n",
      "          25       0.20      0.25      0.22         4\n",
      "          26       0.50      0.33      0.40         9\n",
      "          27       0.00      0.00      0.00         8\n",
      "          28       0.25      0.20      0.22         5\n",
      "          29       0.17      0.12      0.14         8\n",
      "          30       0.00      0.00      0.00         4\n",
      "          31       0.29      0.29      0.29         7\n",
      "          32       0.00      0.00      0.00         3\n",
      "          33       0.12      0.50      0.20         2\n",
      "          34       0.33      0.20      0.25         5\n",
      "          35       0.29      0.67      0.40         3\n",
      "          36       0.67      0.33      0.44         6\n",
      "          37       0.17      0.17      0.17         6\n",
      "          38       0.25      0.20      0.22         5\n",
      "          39       1.00      0.22      0.36         9\n",
      "          40       0.00      0.00      0.00         4\n",
      "          41       0.20      0.17      0.18         6\n",
      "          42       0.43      0.50      0.46         6\n",
      "          43       0.00      0.00      0.00         4\n",
      "          44       0.44      0.57      0.50         7\n",
      "          45       0.50      0.50      0.50         4\n",
      "          46       0.00      0.00      0.00         3\n",
      "          47       0.17      0.14      0.15         7\n",
      "          48       0.33      0.38      0.35         8\n",
      "          49       0.25      0.12      0.17         8\n",
      "          50       0.00      0.00      0.00         2\n",
      "          51       0.46      1.00      0.63         6\n",
      "          52       0.50      0.11      0.18         9\n",
      "          53       0.75      0.50      0.60         6\n",
      "          54       0.40      0.67      0.50         3\n",
      "          55       0.00      0.00      0.00         3\n",
      "          56       0.17      0.50      0.25         2\n",
      "          57       0.25      0.17      0.20         6\n",
      "          58       0.75      0.38      0.50         8\n",
      "          59       0.00      0.00      0.00         3\n",
      "          60       1.00      0.57      0.73         7\n",
      "          61       0.00      0.00      0.00         2\n",
      "          62       0.44      1.00      0.62         4\n",
      "          63       1.00      0.50      0.67         6\n",
      "          64       0.33      0.50      0.40         2\n",
      "\n",
      "    accuracy                           0.34       268\n",
      "   macro avg       0.33      0.31      0.29       268\n",
      "weighted avg       0.42      0.34      0.35       268\n",
      "\n"
     ]
    }
   ],
   "source": [
    "print(classification_report(ytest,pred_bag))"
   ]
  },
  {
   "cell_type": "code",
   "execution_count": 187,
   "metadata": {},
   "outputs": [],
   "source": [
    "from sklearn.naive_bayes import GaussianNB"
   ]
  },
  {
   "cell_type": "code",
   "execution_count": 188,
   "metadata": {},
   "outputs": [
    {
     "data": {
      "text/plain": [
       "6.7164179104477615"
      ]
     },
     "execution_count": 188,
     "metadata": {},
     "output_type": "execute_result"
    }
   ],
   "source": [
    "gau=GaussianNB()\n",
    "gau.fit(xtrain,ytrain)\n",
    "pred_gau=gau.predict(xtest)\n",
    "accu_gau=accuracy_score(ytest,pred_gau)*100\n",
    "accu_gau"
   ]
  },
  {
   "cell_type": "code",
   "execution_count": 189,
   "metadata": {},
   "outputs": [
    {
     "name": "stdout",
     "output_type": "stream",
     "text": [
      "              precision    recall  f1-score   support\n",
      "\n",
      "          18       0.16      0.63      0.25        19\n",
      "          19       0.09      0.36      0.15        14\n",
      "          20       0.00      0.00      0.00         2\n",
      "          21       0.00      0.00      0.00         6\n",
      "          22       0.00      0.00      0.00         6\n",
      "          23       0.00      0.00      0.00         5\n",
      "          24       0.00      0.00      0.00         6\n",
      "          25       0.00      0.00      0.00         4\n",
      "          26       0.00      0.00      0.00         9\n",
      "          27       0.00      0.00      0.00         8\n",
      "          28       0.00      0.00      0.00         5\n",
      "          29       0.00      0.00      0.00         8\n",
      "          30       0.00      0.00      0.00         4\n",
      "          31       0.00      0.00      0.00         7\n",
      "          32       0.00      0.00      0.00         3\n",
      "          33       0.00      0.00      0.00         2\n",
      "          34       0.00      0.00      0.00         5\n",
      "          35       0.00      0.00      0.00         3\n",
      "          36       0.00      0.00      0.00         6\n",
      "          37       0.00      0.00      0.00         6\n",
      "          38       0.00      0.00      0.00         5\n",
      "          39       0.25      0.11      0.15         9\n",
      "          40       0.00      0.00      0.00         4\n",
      "          41       0.00      0.00      0.00         6\n",
      "          42       0.00      0.00      0.00         6\n",
      "          43       0.00      0.00      0.00         4\n",
      "          44       0.00      0.00      0.00         7\n",
      "          45       0.00      0.00      0.00         4\n",
      "          46       0.00      0.00      0.00         3\n",
      "          47       0.00      0.00      0.00         7\n",
      "          48       0.00      0.00      0.00         8\n",
      "          49       0.00      0.00      0.00         8\n",
      "          50       0.00      0.00      0.00         2\n",
      "          51       0.00      0.00      0.00         6\n",
      "          52       0.00      0.00      0.00         9\n",
      "          53       0.00      0.00      0.00         6\n",
      "          54       0.00      0.00      0.00         3\n",
      "          55       0.00      0.00      0.00         3\n",
      "          56       0.00      0.00      0.00         2\n",
      "          57       0.00      0.00      0.00         6\n",
      "          58       0.00      0.00      0.00         8\n",
      "          59       0.00      0.00      0.00         3\n",
      "          60       0.00      0.00      0.00         7\n",
      "          61       0.00      0.00      0.00         2\n",
      "          62       0.00      0.00      0.00         4\n",
      "          63       0.00      0.00      0.00         6\n",
      "          64       0.00      0.00      0.00         2\n",
      "\n",
      "    accuracy                           0.07       268\n",
      "   macro avg       0.01      0.02      0.01       268\n",
      "weighted avg       0.02      0.07      0.03       268\n",
      "\n"
     ]
    },
    {
     "name": "stderr",
     "output_type": "stream",
     "text": [
      "C:\\Users\\Md Asif Ikbal\\anaconda3\\lib\\site-packages\\sklearn\\metrics\\_classification.py:1272: UndefinedMetricWarning: Precision and F-score are ill-defined and being set to 0.0 in labels with no predicted samples. Use `zero_division` parameter to control this behavior.\n",
      "  _warn_prf(average, modifier, msg_start, len(result))\n"
     ]
    }
   ],
   "source": [
    "print(classification_report(ytest,pred_gau))"
   ]
  },
  {
   "cell_type": "code",
   "execution_count": 190,
   "metadata": {},
   "outputs": [],
   "source": [
    "from sklearn.ensemble import ExtraTreesClassifier"
   ]
  },
  {
   "cell_type": "code",
   "execution_count": 191,
   "metadata": {},
   "outputs": [
    {
     "data": {
      "text/plain": [
       "19.029850746268657"
      ]
     },
     "execution_count": 191,
     "metadata": {},
     "output_type": "execute_result"
    }
   ],
   "source": [
    "etc=ExtraTreesClassifier()\n",
    "etc.fit(xtrain,ytrain)\n",
    "pred_etc=etc.predict(xtest)\n",
    "accu_etc=accuracy_score(ytest,pred_etc)*100\n",
    "accu_etc"
   ]
  },
  {
   "cell_type": "code",
   "execution_count": 192,
   "metadata": {},
   "outputs": [
    {
     "name": "stdout",
     "output_type": "stream",
     "text": [
      "              precision    recall  f1-score   support\n",
      "\n",
      "          18       0.59      0.53      0.56        19\n",
      "          19       0.65      0.79      0.71        14\n",
      "          20       0.00      0.00      0.00         2\n",
      "          21       0.00      0.00      0.00         6\n",
      "          22       0.40      0.33      0.36         6\n",
      "          23       0.00      0.00      0.00         5\n",
      "          24       0.33      0.33      0.33         6\n",
      "          25       0.00      0.00      0.00         4\n",
      "          26       0.33      0.22      0.27         9\n",
      "          27       0.20      0.12      0.15         8\n",
      "          28       0.33      0.20      0.25         5\n",
      "          29       0.12      0.12      0.12         8\n",
      "          30       0.00      0.00      0.00         4\n",
      "          31       0.25      0.14      0.18         7\n",
      "          32       0.00      0.00      0.00         3\n",
      "          33       0.00      0.00      0.00         2\n",
      "          34       0.00      0.00      0.00         5\n",
      "          35       0.17      0.33      0.22         3\n",
      "          36       0.00      0.00      0.00         6\n",
      "          37       0.00      0.00      0.00         6\n",
      "          38       0.33      0.20      0.25         5\n",
      "          39       0.17      0.11      0.13         9\n",
      "          40       0.00      0.00      0.00         4\n",
      "          41       0.00      0.00      0.00         6\n",
      "          42       0.33      0.17      0.22         6\n",
      "          43       0.00      0.00      0.00         4\n",
      "          44       0.50      0.43      0.46         7\n",
      "          45       0.12      0.25      0.17         4\n",
      "          46       0.00      0.00      0.00         3\n",
      "          47       0.25      0.14      0.18         7\n",
      "          48       0.00      0.00      0.00         8\n",
      "          49       0.17      0.12      0.14         8\n",
      "          50       0.00      0.00      0.00         2\n",
      "          51       0.20      0.17      0.18         6\n",
      "          52       0.00      0.00      0.00         9\n",
      "          53       0.17      0.17      0.17         6\n",
      "          54       0.00      0.00      0.00         3\n",
      "          55       0.00      0.00      0.00         3\n",
      "          56       0.20      0.50      0.29         2\n",
      "          57       0.29      0.33      0.31         6\n",
      "          58       0.33      0.25      0.29         8\n",
      "          59       0.00      0.00      0.00         3\n",
      "          60       0.33      0.14      0.20         7\n",
      "          61       0.00      0.00      0.00         2\n",
      "          62       0.00      0.00      0.00         4\n",
      "          63       0.50      0.33      0.40         6\n",
      "          64       0.00      0.00      0.00         2\n",
      "\n",
      "    accuracy                           0.19       268\n",
      "   macro avg       0.15      0.14      0.14       268\n",
      "weighted avg       0.22      0.19      0.20       268\n",
      "\n"
     ]
    }
   ],
   "source": [
    "print(classification_report(ytest,pred_etc))"
   ]
  },
  {
   "cell_type": "code",
   "execution_count": 193,
   "metadata": {},
   "outputs": [],
   "source": [
    "from sklearn.svm import SVC"
   ]
  },
  {
   "cell_type": "code",
   "execution_count": 194,
   "metadata": {},
   "outputs": [
    {
     "data": {
      "text/plain": [
       "7.08955223880597"
      ]
     },
     "execution_count": 194,
     "metadata": {},
     "output_type": "execute_result"
    }
   ],
   "source": [
    "svc=SVC()\n",
    "svc.fit(xtrain,ytrain)\n",
    "pre_svc=svc.predict(xtest)\n",
    "accu_svc=accuracy_score(ytest,pre_svc)*100\n",
    "accu_svc"
   ]
  },
  {
   "cell_type": "code",
   "execution_count": 195,
   "metadata": {},
   "outputs": [
    {
     "name": "stdout",
     "output_type": "stream",
     "text": [
      "              precision    recall  f1-score   support\n",
      "\n",
      "          18       0.14      0.63      0.23        19\n",
      "          19       0.11      0.21      0.14        14\n",
      "          20       0.00      0.00      0.00         2\n",
      "          21       0.00      0.00      0.00         6\n",
      "          22       0.00      0.00      0.00         6\n",
      "          23       0.00      0.00      0.00         5\n",
      "          24       0.00      0.00      0.00         6\n",
      "          25       0.00      0.00      0.00         4\n",
      "          26       0.00      0.00      0.00         9\n",
      "          27       0.00      0.00      0.00         8\n",
      "          28       0.00      0.00      0.00         5\n",
      "          29       0.00      0.00      0.00         8\n",
      "          30       0.00      0.00      0.00         4\n",
      "          31       0.00      0.00      0.00         7\n",
      "          32       0.00      0.00      0.00         3\n",
      "          33       0.00      0.00      0.00         2\n",
      "          34       0.00      0.00      0.00         5\n",
      "          35       0.00      0.00      0.00         3\n",
      "          36       0.00      0.00      0.00         6\n",
      "          37       0.00      0.00      0.00         6\n",
      "          38       0.00      0.00      0.00         5\n",
      "          39       0.00      0.00      0.00         9\n",
      "          40       0.00      0.00      0.00         4\n",
      "          41       0.00      0.00      0.00         6\n",
      "          42       0.00      0.00      0.00         6\n",
      "          43       0.00      0.00      0.00         4\n",
      "          44       0.00      0.00      0.00         7\n",
      "          45       0.00      0.00      0.00         4\n",
      "          46       0.03      0.67      0.06         3\n",
      "          47       0.00      0.00      0.00         7\n",
      "          48       0.00      0.00      0.00         8\n",
      "          49       0.00      0.00      0.00         8\n",
      "          50       0.00      0.00      0.00         2\n",
      "          51       0.00      0.00      0.00         6\n",
      "          52       0.00      0.00      0.00         9\n",
      "          53       0.00      0.00      0.00         6\n",
      "          54       0.00      0.00      0.00         3\n",
      "          55       0.00      0.00      0.00         3\n",
      "          56       0.05      1.00      0.10         2\n",
      "          57       0.00      0.00      0.00         6\n",
      "          58       0.00      0.00      0.00         8\n",
      "          59       0.00      0.00      0.00         3\n",
      "          60       0.00      0.00      0.00         7\n",
      "          61       0.00      0.00      0.00         2\n",
      "          62       0.00      0.00      0.00         4\n",
      "          63       0.00      0.00      0.00         6\n",
      "          64       0.00      0.00      0.00         2\n",
      "\n",
      "    accuracy                           0.07       268\n",
      "   macro avg       0.01      0.05      0.01       268\n",
      "weighted avg       0.02      0.07      0.02       268\n",
      "\n"
     ]
    },
    {
     "name": "stderr",
     "output_type": "stream",
     "text": [
      "C:\\Users\\Md Asif Ikbal\\anaconda3\\lib\\site-packages\\sklearn\\metrics\\_classification.py:1272: UndefinedMetricWarning: Precision and F-score are ill-defined and being set to 0.0 in labels with no predicted samples. Use `zero_division` parameter to control this behavior.\n",
      "  _warn_prf(average, modifier, msg_start, len(result))\n"
     ]
    }
   ],
   "source": [
    "print(classification_report(ytest,pre_svc))"
   ]
  },
  {
   "cell_type": "code",
   "execution_count": 196,
   "metadata": {},
   "outputs": [],
   "source": [
    "from sklearn.ensemble import RandomForestClassifier"
   ]
  },
  {
   "cell_type": "code",
   "execution_count": 197,
   "metadata": {},
   "outputs": [
    {
     "data": {
      "text/plain": [
       "21.26865671641791"
      ]
     },
     "execution_count": 197,
     "metadata": {},
     "output_type": "execute_result"
    }
   ],
   "source": [
    "rnd=RandomForestClassifier()\n",
    "rnd.fit(xtrain,ytrain)\n",
    "pre_rnd=rnd.predict(xtest)\n",
    "accu_rnd=accuracy_score(ytest,pre_rnd)*100\n",
    "accu_rnd"
   ]
  },
  {
   "cell_type": "code",
   "execution_count": 198,
   "metadata": {},
   "outputs": [
    {
     "name": "stdout",
     "output_type": "stream",
     "text": [
      "              precision    recall  f1-score   support\n",
      "\n",
      "          18       0.67      0.53      0.59        19\n",
      "          19       0.64      0.64      0.64        14\n",
      "          20       0.00      0.00      0.00         2\n",
      "          21       0.20      0.17      0.18         6\n",
      "          22       0.50      0.33      0.40         6\n",
      "          23       0.20      0.20      0.20         5\n",
      "          24       0.38      0.50      0.43         6\n",
      "          25       0.00      0.00      0.00         4\n",
      "          26       0.29      0.22      0.25         9\n",
      "          27       0.00      0.00      0.00         8\n",
      "          28       0.25      0.20      0.22         5\n",
      "          29       0.17      0.12      0.14         8\n",
      "          30       0.00      0.00      0.00         4\n",
      "          31       0.33      0.14      0.20         7\n",
      "          32       0.00      0.00      0.00         3\n",
      "          33       0.00      0.00      0.00         2\n",
      "          34       0.00      0.00      0.00         5\n",
      "          35       0.29      0.67      0.40         3\n",
      "          36       0.00      0.00      0.00         6\n",
      "          37       0.00      0.00      0.00         6\n",
      "          38       0.33      0.20      0.25         5\n",
      "          39       0.17      0.11      0.13         9\n",
      "          40       0.00      0.00      0.00         4\n",
      "          41       0.00      0.00      0.00         6\n",
      "          42       0.33      0.17      0.22         6\n",
      "          43       0.00      0.00      0.00         4\n",
      "          44       0.80      0.57      0.67         7\n",
      "          45       0.17      0.25      0.20         4\n",
      "          46       0.00      0.00      0.00         3\n",
      "          47       0.12      0.14      0.13         7\n",
      "          48       0.12      0.12      0.12         8\n",
      "          49       0.20      0.12      0.15         8\n",
      "          50       0.00      0.00      0.00         2\n",
      "          51       0.00      0.00      0.00         6\n",
      "          52       0.00      0.00      0.00         9\n",
      "          53       0.25      0.33      0.29         6\n",
      "          54       0.17      0.33      0.22         3\n",
      "          55       0.14      0.33      0.20         3\n",
      "          56       0.14      0.50      0.22         2\n",
      "          57       0.33      0.33      0.33         6\n",
      "          58       0.50      0.38      0.43         8\n",
      "          59       0.00      0.00      0.00         3\n",
      "          60       0.50      0.14      0.22         7\n",
      "          61       0.00      0.00      0.00         2\n",
      "          62       0.00      0.00      0.00         4\n",
      "          63       0.50      0.33      0.40         6\n",
      "          64       0.00      0.00      0.00         2\n",
      "\n",
      "    accuracy                           0.21       268\n",
      "   macro avg       0.18      0.17      0.17       268\n",
      "weighted avg       0.25      0.21      0.22       268\n",
      "\n"
     ]
    }
   ],
   "source": [
    "print(classification_report(ytest,pre_rnd))"
   ]
  },
  {
   "cell_type": "code",
   "execution_count": 199,
   "metadata": {},
   "outputs": [
    {
     "data": {
      "text/html": [
       "<div>\n",
       "<style scoped>\n",
       "    .dataframe tbody tr th:only-of-type {\n",
       "        vertical-align: middle;\n",
       "    }\n",
       "\n",
       "    .dataframe tbody tr th {\n",
       "        vertical-align: top;\n",
       "    }\n",
       "\n",
       "    .dataframe thead th {\n",
       "        text-align: right;\n",
       "    }\n",
       "</style>\n",
       "<table border=\"1\" class=\"dataframe\">\n",
       "  <thead>\n",
       "    <tr style=\"text-align: right;\">\n",
       "      <th></th>\n",
       "      <th>Model</th>\n",
       "      <th>Score</th>\n",
       "    </tr>\n",
       "  </thead>\n",
       "  <tbody>\n",
       "    <tr>\n",
       "      <th>4</th>\n",
       "      <td>BaggingClassifier</td>\n",
       "      <td>33.582090</td>\n",
       "    </tr>\n",
       "    <tr>\n",
       "      <th>1</th>\n",
       "      <td>DecisionTreeClassifier</td>\n",
       "      <td>32.089552</td>\n",
       "    </tr>\n",
       "    <tr>\n",
       "      <th>2</th>\n",
       "      <td>KNeighborsClassifier</td>\n",
       "      <td>21.268657</td>\n",
       "    </tr>\n",
       "    <tr>\n",
       "      <th>9</th>\n",
       "      <td>RandomForestClassifier</td>\n",
       "      <td>21.268657</td>\n",
       "    </tr>\n",
       "    <tr>\n",
       "      <th>7</th>\n",
       "      <td>ExtraTreesClassifier</td>\n",
       "      <td>19.029851</td>\n",
       "    </tr>\n",
       "    <tr>\n",
       "      <th>3</th>\n",
       "      <td>AdaBoostClassifier</td>\n",
       "      <td>9.328358</td>\n",
       "    </tr>\n",
       "    <tr>\n",
       "      <th>6</th>\n",
       "      <td>AdaBoostClassifier</td>\n",
       "      <td>9.328358</td>\n",
       "    </tr>\n",
       "    <tr>\n",
       "      <th>8</th>\n",
       "      <td>SVM</td>\n",
       "      <td>7.089552</td>\n",
       "    </tr>\n",
       "    <tr>\n",
       "      <th>5</th>\n",
       "      <td>GaussianNB</td>\n",
       "      <td>6.716418</td>\n",
       "    </tr>\n",
       "    <tr>\n",
       "      <th>0</th>\n",
       "      <td>LogisticRegression</td>\n",
       "      <td>5.223881</td>\n",
       "    </tr>\n",
       "  </tbody>\n",
       "</table>\n",
       "</div>"
      ],
      "text/plain": [
       "                    Model      Score\n",
       "4       BaggingClassifier  33.582090\n",
       "1  DecisionTreeClassifier  32.089552\n",
       "2    KNeighborsClassifier  21.268657\n",
       "9  RandomForestClassifier  21.268657\n",
       "7    ExtraTreesClassifier  19.029851\n",
       "3      AdaBoostClassifier   9.328358\n",
       "6      AdaBoostClassifier   9.328358\n",
       "8                     SVM   7.089552\n",
       "5              GaussianNB   6.716418\n",
       "0      LogisticRegression   5.223881"
      ]
     },
     "execution_count": 199,
     "metadata": {},
     "output_type": "execute_result"
    }
   ],
   "source": [
    "models = pd.DataFrame({\n",
    "    'Model': ['LogisticRegression','DecisionTreeClassifier','KNeighborsClassifier' , \n",
    "             'AdaBoostClassifier','BaggingClassifier','GaussianNB','AdaBoostClassifier','ExtraTreesClassifier','SVM','RandomForestClassifier'],\n",
    "    'Score': [accu_lo,accu_tre, accu_kne, accu_ada,accu_bag,accu_gau,accu_ada,accu_etc,accu_svc,accu_rnd]\n",
    "})\n",
    "\n",
    "models.sort_values(by = 'Score', ascending = False)"
   ]
  },
  {
   "cell_type": "code",
   "execution_count": 200,
   "metadata": {},
   "outputs": [
    {
     "data": {
      "image/png": "[encoded data removed]",
      "text/plain": [
       "<Figure size 1080x936 with 1 Axes>"
      ]
     },
     "metadata": {},
     "output_type": "display_data"
    }
   ],
   "source": [
    "colors = [\"purple\", \"green\", \"orange\", \"magenta\",\"blue\",\"black\",\"red\"]\n",
    "\n",
    "sns.set_style(\"whitegrid\")\n",
    "plt.figure(figsize=(15,13))\n",
    "plt.ylabel(\"Accuracy %\")\n",
    "plt.xlabel(\"Algorithms\")\n",
    "sns.barplot(x=models['Model'],y=models['Score'], palette=colors )\n",
    "plt.show()"
   ]
  },
  {
   "cell_type": "code",
   "execution_count": 201,
   "metadata": {},
   "outputs": [],
   "source": [
    "import sklearn.cluster as cluster\n",
    "from sklearn.cluster import KMeans "
   ]
  },
  {
   "cell_type": "code",
   "execution_count": 202,
   "metadata": {},
   "outputs": [
    {
     "data": {
      "text/html": [
       "<div>\n",
       "<style scoped>\n",
       "    .dataframe tbody tr th:only-of-type {\n",
       "        vertical-align: middle;\n",
       "    }\n",
       "\n",
       "    .dataframe tbody tr th {\n",
       "        vertical-align: top;\n",
       "    }\n",
       "\n",
       "    .dataframe thead th {\n",
       "        text-align: right;\n",
       "    }\n",
       "</style>\n",
       "<table border=\"1\" class=\"dataframe\">\n",
       "  <thead>\n",
       "    <tr style=\"text-align: right;\">\n",
       "      <th></th>\n",
       "      <th>age</th>\n",
       "      <th>sex</th>\n",
       "      <th>bmi</th>\n",
       "      <th>children</th>\n",
       "      <th>smoker</th>\n",
       "      <th>region</th>\n",
       "      <th>expenses</th>\n",
       "    </tr>\n",
       "  </thead>\n",
       "  <tbody>\n",
       "    <tr>\n",
       "      <th>0</th>\n",
       "      <td>19</td>\n",
       "      <td>0</td>\n",
       "      <td>27.9</td>\n",
       "      <td>0</td>\n",
       "      <td>1</td>\n",
       "      <td>3</td>\n",
       "      <td>16884.92</td>\n",
       "    </tr>\n",
       "    <tr>\n",
       "      <th>1</th>\n",
       "      <td>18</td>\n",
       "      <td>1</td>\n",
       "      <td>33.8</td>\n",
       "      <td>1</td>\n",
       "      <td>0</td>\n",
       "      <td>2</td>\n",
       "      <td>1725.55</td>\n",
       "    </tr>\n",
       "    <tr>\n",
       "      <th>2</th>\n",
       "      <td>28</td>\n",
       "      <td>1</td>\n",
       "      <td>33.0</td>\n",
       "      <td>3</td>\n",
       "      <td>0</td>\n",
       "      <td>2</td>\n",
       "      <td>4449.46</td>\n",
       "    </tr>\n",
       "    <tr>\n",
       "      <th>3</th>\n",
       "      <td>33</td>\n",
       "      <td>1</td>\n",
       "      <td>22.7</td>\n",
       "      <td>0</td>\n",
       "      <td>0</td>\n",
       "      <td>1</td>\n",
       "      <td>21984.47</td>\n",
       "    </tr>\n",
       "    <tr>\n",
       "      <th>4</th>\n",
       "      <td>32</td>\n",
       "      <td>1</td>\n",
       "      <td>28.9</td>\n",
       "      <td>0</td>\n",
       "      <td>0</td>\n",
       "      <td>1</td>\n",
       "      <td>3866.86</td>\n",
       "    </tr>\n",
       "  </tbody>\n",
       "</table>\n",
       "</div>"
      ],
      "text/plain": [
       "   age  sex   bmi  children  smoker  region  expenses\n",
       "0   19    0  27.9         0       1       3  16884.92\n",
       "1   18    1  33.8         1       0       2   1725.55\n",
       "2   28    1  33.0         3       0       2   4449.46\n",
       "3   33    1  22.7         0       0       1  21984.47\n",
       "4   32    1  28.9         0       0       1   3866.86"
      ]
     },
     "execution_count": 202,
     "metadata": {},
     "output_type": "execute_result"
    }
   ],
   "source": [
    "df.head()"
   ]
  },
  {
   "cell_type": "code",
   "execution_count": 203,
   "metadata": {},
   "outputs": [],
   "source": [
    "kmns=cluster.KMeans(n_clusters=5)"
   ]
  },
  {
   "cell_type": "code",
   "execution_count": 204,
   "metadata": {},
   "outputs": [],
   "source": [
    "kmns=kmns.fit(df[['age','sex']])"
   ]
  },
  {
   "cell_type": "code",
   "execution_count": 205,
   "metadata": {},
   "outputs": [
    {
     "data": {
      "text/plain": [
       "array([[50.43661972,  0.49647887],\n",
       "       [30.39925373,  0.51119403],\n",
       "       [20.69934641,  0.51960784],\n",
       "       [59.85648148,  0.49074074],\n",
       "       [40.625     ,  0.50378788]])"
      ]
     },
     "execution_count": 205,
     "metadata": {},
     "output_type": "execute_result"
    }
   ],
   "source": [
    "kmns.cluster_centers_"
   ]
  },
  {
   "cell_type": "code",
   "execution_count": 206,
   "metadata": {},
   "outputs": [],
   "source": [
    "df['age by sex']=kmns.labels_"
   ]
  },
  {
   "cell_type": "code",
   "execution_count": 207,
   "metadata": {},
   "outputs": [],
   "source": [
    "k_range=range(1,12)\n",
    "wss=[]"
   ]
  },
  {
   "cell_type": "code",
   "execution_count": 209,
   "metadata": {},
   "outputs": [],
   "source": [
    "for k in k_range:\n",
    "    km=KMeans(n_clusters=k)\n",
    "    km.fit(df[['age','sex']])\n",
    "    wss.append(km.inertia_)"
   ]
  },
  {
   "cell_type": "code",
   "execution_count": 210,
   "metadata": {},
   "outputs": [
    {
     "data": {
      "text/plain": [
       "[264260.11733931245,\n",
       " 63500.2159021844,\n",
       " 28658.173069333563,\n",
       " 16137.809490119009,\n",
       " 10207.227744210375,\n",
       " 7127.44367983997,\n",
       " 5198.259162561141,\n",
       " 4181.96467906082,\n",
       " 3277.571842465757,\n",
       " 2726.143107179888,\n",
       " 2327.696817101347]"
      ]
     },
     "execution_count": 210,
     "metadata": {},
     "output_type": "execute_result"
    }
   ],
   "source": [
    "wss"
   ]
  },
  {
   "cell_type": "code",
   "execution_count": 214,
   "metadata": {},
   "outputs": [
    {
     "data": {
      "text/plain": [
       "[<matplotlib.lines.Line2D at 0x1e564b33788>]"
      ]
     },
     "execution_count": 214,
     "metadata": {},
     "output_type": "execute_result"
    },
    {
     "data": {
      "image/png": "[encoded data removed]",
      "text/plain": [
       "<Figure size 432x288 with 1 Axes>"
      ]
     },
     "metadata": {},
     "output_type": "display_data"
    }
   ],
   "source": [
    "plt.xlabel('Age')\n",
    "plt.ylabel('Sex')\n",
    "\n",
    "plt.plot(k_range,wss)"
   ]
  },
  {
   "cell_type": "code",
   "execution_count": 215,
   "metadata": {},
   "outputs": [],
   "source": [
    "kmns=cluster.KMeans(n_clusters=5)"
   ]
  },
  {
   "cell_type": "code",
   "execution_count": 217,
   "metadata": {},
   "outputs": [],
   "source": [
    "kmns=kmns.fit(df[['age','children']])"
   ]
  },
  {
   "cell_type": "code",
   "execution_count": 218,
   "metadata": {},
   "outputs": [
    {
     "data": {
      "text/plain": [
       "array([[39.59615385,  1.49230769],\n",
       "       [59.33471074,  0.68181818],\n",
       "       [29.41697417,  1.27675277],\n",
       "       [49.4738676 ,  1.38675958],\n",
       "       [20.26618705,  0.60431655]])"
      ]
     },
     "execution_count": 218,
     "metadata": {},
     "output_type": "execute_result"
    }
   ],
   "source": [
    "kmns.cluster_centers_"
   ]
  },
  {
   "cell_type": "code",
   "execution_count": 220,
   "metadata": {},
   "outputs": [],
   "source": [
    "df['age by children']=kmns.labels_"
   ]
  },
  {
   "cell_type": "code",
   "execution_count": 223,
   "metadata": {},
   "outputs": [],
   "source": [
    "k_range=range(1,16)\n",
    "wss=[]"
   ]
  },
  {
   "cell_type": "code",
   "execution_count": 226,
   "metadata": {},
   "outputs": [],
   "source": [
    "for k in k_range:\n",
    "    km=KMeans(n_clusters=k)\n",
    "    km.fit(df[['age','children']])\n",
    "    wss.append(km.inertia_)"
   ]
  },
  {
   "cell_type": "code",
   "execution_count": 227,
   "metadata": {},
   "outputs": [
    {
     "data": {
      "text/plain": [
       "[265868.5994020927,\n",
       " 65107.472274856096,\n",
       " 30226.60234597829,\n",
       " 17515.56189430695,\n",
       " 11621.171570056598,\n",
       " 8489.998413714125,\n",
       " 6686.8796961398,\n",
       " 5586.854796721593,\n",
       " 4699.261967525867,\n",
       " 4091.498524268972,\n",
       " 3690.739738230094,\n",
       " 3340.784694098427,\n",
       " 3120.316257633197,\n",
       " 2971.267600478496,\n",
       " 2821.022814486849]"
      ]
     },
     "execution_count": 227,
     "metadata": {},
     "output_type": "execute_result"
    }
   ],
   "source": [
    "wss"
   ]
  },
  {
   "cell_type": "code",
   "execution_count": 228,
   "metadata": {},
   "outputs": [
    {
     "data": {
      "text/plain": [
       "[<matplotlib.lines.Line2D at 0x1e564ae88c8>]"
      ]
     },
     "execution_count": 228,
     "metadata": {},
     "output_type": "execute_result"
    },
    {
     "data": {
      "image/png": "[encoded data removed]",
      "text/plain": [
       "<Figure size 432x288 with 1 Axes>"
      ]
     },
     "metadata": {},
     "output_type": "display_data"
    }
   ],
   "source": [
    "plt.xlabel('Age')\n",
    "plt.ylabel('children')\n",
    "\n",
    "plt.plot(k_range,wss)"
   ]
  },
  {
   "cell_type": "code",
   "execution_count": 229,
   "metadata": {},
   "outputs": [],
   "source": [
    "kmns=cluster.KMeans(n_clusters=5)"
   ]
  },
  {
   "cell_type": "code",
   "execution_count": 230,
   "metadata": {},
   "outputs": [],
   "source": [
    "kmns=kmns.fit(df[['age','smoker']])"
   ]
  },
  {
   "cell_type": "code",
   "execution_count": 231,
   "metadata": {
    "collapsed": true
   },
   "outputs": [
    {
     "data": {
      "text/plain": [
       "array([[49.4738676 ,  0.19163763],\n",
       "       [29.41697417,  0.20664207],\n",
       "       [20.26618705,  0.21582734],\n",
       "       [39.59615385,  0.23461538],\n",
       "       [59.33471074,  0.17355372]])"
      ]
     },
     "execution_count": 231,
     "metadata": {},
     "output_type": "execute_result"
    }
   ],
   "source": [
    "kmns.cluster_centers_"
   ]
  },
  {
   "cell_type": "code",
   "execution_count": 236,
   "metadata": {},
   "outputs": [],
   "source": [
    "df['age by smoker']=kmns.labels_"
   ]
  },
  {
   "cell_type": "code",
   "execution_count": 237,
   "metadata": {},
   "outputs": [],
   "source": [
    "k_range=range(1,16)\n",
    "wss=[]"
   ]
  },
  {
   "cell_type": "code",
   "execution_count": 238,
   "metadata": {},
   "outputs": [],
   "source": [
    "for k in k_range:\n",
    "    km=KMeans(n_clusters=k)\n",
    "    km.fit(df[['age','smoker']])\n",
    "    wss.append(km.inertia_)"
   ]
  },
  {
   "cell_type": "code",
   "execution_count": 239,
   "metadata": {
    "collapsed": true
   },
   "outputs": [
    {
     "data": {
      "text/plain": [
       "[264143.543348281,\n",
       " 63383.624718458406,\n",
       " 28541.06784928572,\n",
       " 16021.001192584768,\n",
       " 10103.560207305807,\n",
       " 6942.922995347712,\n",
       " 5164.8983427802705,\n",
       " 4022.5470349291245,\n",
       " 3200.1634795061896,\n",
       " 2606.4532370900774,\n",
       " 2207.1202284901747,\n",
       " 1876.9429742584596,\n",
       " 1583.0337812389212,\n",
       " 1384.7631917560766,\n",
       " 1232.3160890604263]"
      ]
     },
     "execution_count": 239,
     "metadata": {},
     "output_type": "execute_result"
    }
   ],
   "source": [
    "wss"
   ]
  },
  {
   "cell_type": "code",
   "execution_count": 240,
   "metadata": {
    "collapsed": true
   },
   "outputs": [
    {
     "data": {
      "text/plain": [
       "[<matplotlib.lines.Line2D at 0x1e555109b48>]"
      ]
     },
     "execution_count": 240,
     "metadata": {},
     "output_type": "execute_result"
    },
    {
     "data": {
      "image/png": "[encoded data removed]",
      "text/plain": [
       "<Figure size 432x288 with 1 Axes>"
      ]
     },
     "metadata": {},
     "output_type": "display_data"
    }
   ],
   "source": [
    "plt.xlabel('Age')\n",
    "plt.ylabel('smoker')\n",
    "\n",
    "plt.plot(k_range,wss)"
   ]
  },
  {
   "cell_type": "code",
   "execution_count": 260,
   "metadata": {},
   "outputs": [],
   "source": [
    "kmns=cluster.KMeans(n_clusters=3)"
   ]
  },
  {
   "cell_type": "code",
   "execution_count": 261,
   "metadata": {},
   "outputs": [],
   "source": [
    "kmns=kmns.fit(df[['age','region']])"
   ]
  },
  {
   "cell_type": "code",
   "execution_count": 262,
   "metadata": {},
   "outputs": [
    {
     "data": {
      "text/plain": [
       "array([[39.69647059,  1.52470588],\n",
       "       [55.55656109,  1.51357466],\n",
       "       [23.42250531,  1.50955414]])"
      ]
     },
     "execution_count": 262,
     "metadata": {},
     "output_type": "execute_result"
    }
   ],
   "source": [
    "kmns.cluster_centers_"
   ]
  },
  {
   "cell_type": "code",
   "execution_count": 263,
   "metadata": {},
   "outputs": [],
   "source": [
    "df['age by region']=kmns.labels_"
   ]
  },
  {
   "cell_type": "code",
   "execution_count": 264,
   "metadata": {},
   "outputs": [],
   "source": [
    "k_range=range(1,10)\n",
    "wss=[]"
   ]
  },
  {
   "cell_type": "code",
   "execution_count": 265,
   "metadata": {},
   "outputs": [],
   "source": [
    "for k in k_range:\n",
    "    km=KMeans(n_clusters=k)\n",
    "    km.fit(df[['age','region']])\n",
    "    wss.append(km.inertia_)"
   ]
  },
  {
   "cell_type": "code",
   "execution_count": 266,
   "metadata": {
    "collapsed": true
   },
   "outputs": [
    {
     "data": {
      "text/plain": [
       "[265557.82436472346,\n",
       " 64798.01197669015,\n",
       " 29955.96826911068,\n",
       " 17286.23915213453,\n",
       " 11518.36579562963,\n",
       " 8495.609873338477,\n",
       " 6495.970903654428,\n",
       " 5449.770207203943,\n",
       " 4566.097880969806]"
      ]
     },
     "execution_count": 266,
     "metadata": {},
     "output_type": "execute_result"
    }
   ],
   "source": [
    "wss"
   ]
  },
  {
   "cell_type": "code",
   "execution_count": 267,
   "metadata": {
    "collapsed": true
   },
   "outputs": [
    {
     "data": {
      "text/plain": [
       "[<matplotlib.lines.Line2D at 0x1e552694208>]"
      ]
     },
     "execution_count": 267,
     "metadata": {},
     "output_type": "execute_result"
    },
    {
     "data": {
      "image/png": "[encoded data removed]",
      "text/plain": [
       "<Figure size 432x288 with 1 Axes>"
      ]
     },
     "metadata": {},
     "output_type": "display_data"
    }
   ],
   "source": [
    "plt.xlabel('Age')\n",
    "plt.ylabel('region')\n",
    "\n",
    "plt.plot(k_range,wss)"
   ]
  },
  {
   "cell_type": "code",
   "execution_count": 268,
   "metadata": {},
   "outputs": [],
   "source": [
    "kmns=cluster.KMeans(n_clusters=3)"
   ]
  },
  {
   "cell_type": "code",
   "execution_count": 269,
   "metadata": {},
   "outputs": [],
   "source": [
    "kmns=kmns.fit(df[['age','expenses']])"
   ]
  },
  {
   "cell_type": "code",
   "execution_count": 270,
   "metadata": {},
   "outputs": [
    {
     "data": {
      "text/plain": [
       "array([[3.71227477e+01, 6.43014823e+03],\n",
       "       [4.03765432e+01, 4.07613089e+04],\n",
       "       [4.49756944e+01, 1.88976442e+04]])"
      ]
     },
     "execution_count": 270,
     "metadata": {},
     "output_type": "execute_result"
    }
   ],
   "source": [
    "kmns.cluster_centers_"
   ]
  },
  {
   "cell_type": "code",
   "execution_count": 271,
   "metadata": {},
   "outputs": [],
   "source": [
    "df['age by expenses']=kmns.labels_"
   ]
  },
  {
   "cell_type": "code",
   "execution_count": 272,
   "metadata": {},
   "outputs": [],
   "source": [
    "k_range=range(1,10)\n",
    "wss=[]"
   ]
  },
  {
   "cell_type": "code",
   "execution_count": 273,
   "metadata": {},
   "outputs": [],
   "source": [
    "for k in k_range:\n",
    "    km=KMeans(n_clusters=k)\n",
    "    km.fit(df[['age','expenses']])\n",
    "    wss.append(km.inertia_)"
   ]
  },
  {
   "cell_type": "code",
   "execution_count": 274,
   "metadata": {},
   "outputs": [
    {
     "data": {
      "text/plain": [
       "[265557.82436472346,\n",
       " 64798.01197669015,\n",
       " 30327.48009131913,\n",
       " 17286.23915213453,\n",
       " 11598.98816350004,\n",
       " 8357.904022747272,\n",
       " 6518.0065345132925,\n",
       " 5442.175402062189,\n",
       " 4538.8715718822805]"
      ]
     },
     "execution_count": 274,
     "metadata": {},
     "output_type": "execute_result"
    }
   ],
   "source": [
    "wss"
   ]
  },
  {
   "cell_type": "code",
   "execution_count": 275,
   "metadata": {},
   "outputs": [
    {
     "data": {
      "text/plain": [
       "[<matplotlib.lines.Line2D at 0x1e554beadc8>]"
      ]
     },
     "execution_count": 275,
     "metadata": {},
     "output_type": "execute_result"
    },
    {
     "data": {
      "image/png": "[encoded data removed]",
      "text/plain": [
       "<Figure size 432x288 with 1 Axes>"
      ]
     },
     "metadata": {},
     "output_type": "display_data"
    }
   ],
   "source": [
    "plt.xlabel('Age')\n",
    "plt.ylabel('expenses')\n",
    "\n",
    "plt.plot(k_range,wss)"
   ]
  },
  {
   "cell_type": "code",
   "execution_count": 276,
   "metadata": {},
   "outputs": [
    {
     "data": {
      "text/html": [
       "<div>\n",
       "<style scoped>\n",
       "    .dataframe tbody tr th:only-of-type {\n",
       "        vertical-align: middle;\n",
       "    }\n",
       "\n",
       "    .dataframe tbody tr th {\n",
       "        vertical-align: top;\n",
       "    }\n",
       "\n",
       "    .dataframe thead th {\n",
       "        text-align: right;\n",
       "    }\n",
       "</style>\n",
       "<table border=\"1\" class=\"dataframe\">\n",
       "  <thead>\n",
       "    <tr style=\"text-align: right;\">\n",
       "      <th></th>\n",
       "      <th>age</th>\n",
       "      <th>sex</th>\n",
       "      <th>bmi</th>\n",
       "      <th>children</th>\n",
       "      <th>smoker</th>\n",
       "      <th>region</th>\n",
       "      <th>expenses</th>\n",
       "      <th>age by sex</th>\n",
       "      <th>age by children</th>\n",
       "      <th>age by smoker</th>\n",
       "      <th>age by region</th>\n",
       "    </tr>\n",
       "  </thead>\n",
       "  <tbody>\n",
       "    <tr>\n",
       "      <th>0</th>\n",
       "      <td>19</td>\n",
       "      <td>0</td>\n",
       "      <td>27.9</td>\n",
       "      <td>0</td>\n",
       "      <td>1</td>\n",
       "      <td>3</td>\n",
       "      <td>16884.92</td>\n",
       "      <td>2</td>\n",
       "      <td>2</td>\n",
       "      <td>0</td>\n",
       "      <td>2</td>\n",
       "    </tr>\n",
       "    <tr>\n",
       "      <th>1</th>\n",
       "      <td>18</td>\n",
       "      <td>1</td>\n",
       "      <td>33.8</td>\n",
       "      <td>1</td>\n",
       "      <td>0</td>\n",
       "      <td>2</td>\n",
       "      <td>1725.55</td>\n",
       "      <td>2</td>\n",
       "      <td>2</td>\n",
       "      <td>0</td>\n",
       "      <td>0</td>\n",
       "    </tr>\n",
       "    <tr>\n",
       "      <th>2</th>\n",
       "      <td>28</td>\n",
       "      <td>1</td>\n",
       "      <td>33.0</td>\n",
       "      <td>3</td>\n",
       "      <td>0</td>\n",
       "      <td>2</td>\n",
       "      <td>4449.46</td>\n",
       "      <td>1</td>\n",
       "      <td>1</td>\n",
       "      <td>0</td>\n",
       "      <td>0</td>\n",
       "    </tr>\n",
       "    <tr>\n",
       "      <th>3</th>\n",
       "      <td>33</td>\n",
       "      <td>1</td>\n",
       "      <td>22.7</td>\n",
       "      <td>0</td>\n",
       "      <td>0</td>\n",
       "      <td>1</td>\n",
       "      <td>21984.47</td>\n",
       "      <td>1</td>\n",
       "      <td>1</td>\n",
       "      <td>2</td>\n",
       "      <td>2</td>\n",
       "    </tr>\n",
       "    <tr>\n",
       "      <th>4</th>\n",
       "      <td>32</td>\n",
       "      <td>1</td>\n",
       "      <td>28.9</td>\n",
       "      <td>0</td>\n",
       "      <td>0</td>\n",
       "      <td>1</td>\n",
       "      <td>3866.86</td>\n",
       "      <td>1</td>\n",
       "      <td>1</td>\n",
       "      <td>2</td>\n",
       "      <td>0</td>\n",
       "    </tr>\n",
       "  </tbody>\n",
       "</table>\n",
       "</div>"
      ],
      "text/plain": [
       "   age  sex   bmi  children  smoker  region  expenses  age by sex  \\\n",
       "0   19    0  27.9         0       1       3  16884.92           2   \n",
       "1   18    1  33.8         1       0       2   1725.55           2   \n",
       "2   28    1  33.0         3       0       2   4449.46           1   \n",
       "3   33    1  22.7         0       0       1  21984.47           1   \n",
       "4   32    1  28.9         0       0       1   3866.86           1   \n",
       "\n",
       "   age by children  age by smoker  age by region  \n",
       "0                2              0              2  \n",
       "1                2              0              0  \n",
       "2                1              0              0  \n",
       "3                1              2              2  \n",
       "4                1              2              0  "
      ]
     },
     "execution_count": 276,
     "metadata": {},
     "output_type": "execute_result"
    }
   ],
   "source": [
    "df.head()"
   ]
  },
  {
   "cell_type": "code",
   "execution_count": 278,
   "metadata": {
    "collapsed": true
   },
   "outputs": [
    {
     "data": {
      "text/plain": [
       "<matplotlib.axes._subplots.AxesSubplot at 0x1e56d57a988>"
      ]
     },
     "execution_count": 278,
     "metadata": {},
     "output_type": "execute_result"
    },
    {
     "data": {
      "image/png": "[encoded data removed]",
      "text/plain": [
       "<Figure size 720x576 with 1 Axes>"
      ]
     },
     "metadata": {},
     "output_type": "display_data"
    }
   ],
   "source": [
    "plt.figure(figsize = (10,8))\n",
    "df.age.value_counts().plot(kind='pie')"
   ]
  },
  {
   "cell_type": "code",
   "execution_count": 281,
   "metadata": {
    "collapsed": true
   },
   "outputs": [
    {
     "data": {
      "text/plain": [
       "<matplotlib.axes._subplots.AxesSubplot at 0x1e56d77cb08>"
      ]
     },
     "execution_count": 281,
     "metadata": {},
     "output_type": "execute_result"
    },
    {
     "data": {
      "image/png": "[encoded data removed]",
      "text/plain": [
       "<Figure size 1080x864 with 2 Axes>"
      ]
     },
     "metadata": {},
     "output_type": "display_data"
    }
   ],
   "source": [
    "plt.figure(figsize=(15,12))\n",
    "sns.heatmap(df.corr(),annot=True)"
   ]
  },
  {
   "cell_type": "code",
   "execution_count": 285,
   "metadata": {
    "collapsed": true
   },
   "outputs": [
    {
     "data": {
      "text/plain": [
       "<matplotlib.axes._subplots.AxesSubplot at 0x1e56e25f708>"
      ]
     },
     "execution_count": 285,
     "metadata": {},
     "output_type": "execute_result"
    },
    {
     "data": {
      "image/png": "[encoded data removed]",
      "text/plain": [
       "<Figure size 432x288 with 1 Axes>"
      ]
     },
     "metadata": {},
     "output_type": "display_data"
    }
   ],
   "source": [
    "sns.scatterplot(x='age',y='bmi',data=df,color='red')"
   ]
  },
  {
   "cell_type": "code",
   "execution_count": 287,
   "metadata": {
    "collapsed": true
   },
   "outputs": [
    {
     "data": {
      "image/png": "[encoded data removed]",
      "text/plain": [
       "<Figure size 720x576 with 2 Axes>"
      ]
     },
     "metadata": {},
     "output_type": "display_data"
    }
   ],
   "source": [
    "plt.figure(figsize=(10,8))\n",
    "cmap = sns.diverging_palette(230, 20, as_cmap=True)\n",
    "sns.heatmap(df.corr(),annot=True,cmap='Dark2_r',linewidths=2)\n",
    "plt.show()"
   ]
  },
  {
   "cell_type": "code",
   "execution_count": 288,
   "metadata": {
    "collapsed": true
   },
   "outputs": [
    {
     "data": {
      "text/plain": [
       "<matplotlib.axes._subplots.AxesSubplot at 0x1e555037ec8>"
      ]
     },
     "execution_count": 288,
     "metadata": {},
     "output_type": "execute_result"
    },
    {
     "data": {
      "image/png": "[encoded data removed]",
      "text/plain": [
       "<Figure size 1080x648 with 1 Axes>"
      ]
     },
     "metadata": {},
     "output_type": "display_data"
    }
   ],
   "source": [
    "plt.figure(figsize=(15,9))\n",
    "sns.boxplot(x='age',y='smoker',data=df)"
   ]
  },
  {
   "cell_type": "code",
   "execution_count": 289,
   "metadata": {
    "collapsed": true
   },
   "outputs": [
    {
     "data": {
      "text/plain": [
       "<matplotlib.axes._subplots.AxesSubplot at 0x1e56f691cc8>"
      ]
     },
     "execution_count": 289,
     "metadata": {},
     "output_type": "execute_result"
    },
    {
     "data": {
      "image/png": "[encoded data removed]",
      "text/plain": [
       "<Figure size 1080x648 with 1 Axes>"
      ]
     },
     "metadata": {},
     "output_type": "display_data"
    }
   ],
   "source": [
    "plt.figure(figsize=(15,9))\n",
    "sns.boxenplot(x='children',y='smoker',data=df)"
   ]
  },
  {
   "cell_type": "code",
   "execution_count": 290,
   "metadata": {
    "collapsed": true
   },
   "outputs": [
    {
     "data": {
      "text/plain": [
       "<matplotlib.axes._subplots.AxesSubplot at 0x1e56f3b87c8>"
      ]
     },
     "execution_count": 290,
     "metadata": {},
     "output_type": "execute_result"
    },
    {
     "data": {
      "image/png": "[encoded data removed]",
      "text/plain": [
       "<Figure size 1080x648 with 1 Axes>"
      ]
     },
     "metadata": {},
     "output_type": "display_data"
    }
   ],
   "source": [
    "plt.figure(figsize=(15,9))\n",
    "sns.barplot(x='age',y='expenses',data=df)"
   ]
  },
  {
   "cell_type": "code",
   "execution_count": 291,
   "metadata": {
    "collapsed": true
   },
   "outputs": [
    {
     "data": {
      "text/plain": [
       "<matplotlib.axes._subplots.AxesSubplot at 0x1e56f9f84c8>"
      ]
     },
     "execution_count": 291,
     "metadata": {},
     "output_type": "execute_result"
    },
    {
     "data": {
      "image/png": "[encoded data removed]",
      "text/plain": [
       "<Figure size 1080x648 with 1 Axes>"
      ]
     },
     "metadata": {},
     "output_type": "display_data"
    }
   ],
   "source": [
    "plt.figure(figsize=(15,9))\n",
    "sns.distplot(df['region'])"
   ]
  },
  {
   "cell_type": "code",
   "execution_count": 294,
   "metadata": {
    "collapsed": true
   },
   "outputs": [
    {
     "data": {
      "text/plain": [
       "<matplotlib.axes._subplots.AxesSubplot at 0x1e56ff12848>"
      ]
     },
     "execution_count": 294,
     "metadata": {},
     "output_type": "execute_result"
    },
    {
     "data": {
      "image/png": "[encoded data removed]",
      "text/plain": [
       "<Figure size 1080x648 with 1 Axes>"
      ]
     },
     "metadata": {},
     "output_type": "display_data"
    }
   ],
   "source": [
    "plt.figure(figsize=(15,9))\n",
    "sns.lineplot(x='age', y='children',data=df,color=\"red\")"
   ]
  },
  {
   "cell_type": "code",
   "execution_count": 297,
   "metadata": {
    "collapsed": true
   },
   "outputs": [
    {
     "data": {
      "text/plain": [
       "<matplotlib.axes._subplots.AxesSubplot at 0x1e56fa96d08>"
      ]
     },
     "execution_count": 297,
     "metadata": {},
     "output_type": "execute_result"
    },
    {
     "data": {
      "image/png": "[encoded data removed]",
      "text/plain": [
       "<Figure size 1080x648 with 1 Axes>"
      ]
     },
     "metadata": {},
     "output_type": "display_data"
    }
   ],
   "source": [
    "plt.figure(figsize=(15,9))\n",
    "sns.pointplot(x='smoker',y='region',data=df,color='red')"
   ]
  },
  {
   "cell_type": "code",
   "execution_count": 299,
   "metadata": {
    "collapsed": true
   },
   "outputs": [
    {
     "data": {
      "text/plain": [
       "<matplotlib.axes._subplots.AxesSubplot at 0x1e570057848>"
      ]
     },
     "execution_count": 299,
     "metadata": {},
     "output_type": "execute_result"
    },
    {
     "data": {
      "image/png": "[encoded data removed]",
      "text/plain": [
       "<Figure size 432x288 with 1 Axes>"
      ]
     },
     "metadata": {},
     "output_type": "display_data"
    }
   ],
   "source": [
    "sns.kdeplot(df['age'])\n",
    "sns.kdeplot(df['sex'])\n",
    "sns.kdeplot(df['bmi'])"
   ]
  },
  {
   "cell_type": "code",
   "execution_count": 300,
   "metadata": {
    "collapsed": true
   },
   "outputs": [
    {
     "data": {
      "text/plain": [
       "<matplotlib.axes._subplots.AxesSubplot at 0x1e5700a1288>"
      ]
     },
     "execution_count": 300,
     "metadata": {},
     "output_type": "execute_result"
    },
    {
     "data": {
      "image/png": "[encoded data removed]",
      "text/plain": [
       "<Figure size 432x288 with 1 Axes>"
      ]
     },
     "metadata": {},
     "output_type": "display_data"
    }
   ],
   "source": [
    "sns.violinplot(y=\"age\",data=df)\n",
    "sns.violinplot(y=\"smoker\",data=df,color='orange')\n",
    "sns.violinplot(y=\"region\",data=df,color='red')"
   ]
  },
  {
   "cell_type": "code",
   "execution_count": 301,
   "metadata": {
    "collapsed": true
   },
   "outputs": [
    {
     "data": {
      "text/plain": [
       "<matplotlib.axes._subplots.AxesSubplot at 0x1e57046cd48>"
      ]
     },
     "execution_count": 301,
     "metadata": {},
     "output_type": "execute_result"
    },
    {
     "data": {
      "image/png": "[encoded data removed]",
      "text/plain": [
       "<Figure size 432x288 with 1 Axes>"
      ]
     },
     "metadata": {},
     "output_type": "display_data"
    }
   ],
   "source": [
    "df.boxplot(column=\"age by sex\")\n",
    "df.boxplot(column=\"age by children\",color='orange')\n",
    "df.boxplot(column=\"age by smoker\",color='red')"
   ]
  },
  {
   "cell_type": "code",
   "execution_count": 313,
   "metadata": {
    "scrolled": true
   },
   "outputs": [
    {
     "data": {
      "text/plain": [
       "<seaborn.axisgrid.JointGrid at 0x1e573bfcf08>"
      ]
     },
     "execution_count": 313,
     "metadata": {},
     "output_type": "execute_result"
    },
    {
     "data": {
      "text/plain": [
       "<Figure size 1500x900 with 0 Axes>"
      ]
     },
     "metadata": {},
     "output_type": "display_data"
    },
    {
     "data": {
      "image/png": "[encoded data removed]",
      "text/plain": [
       "<Figure size 600x600 with 3 Axes>"
      ]
     },
     "metadata": {},
     "output_type": "display_data"
    }
   ],
   "source": [
    "plt.figure(figsize=(15,9))\n",
    "sns.jointplot(x='bmi',y='age',data=df,kind='kde',color='green')"
   ]
  },
  {
   "cell_type": "code",
   "execution_count": 298,
   "metadata": {
    "collapsed": true
   },
   "outputs": [
    {
     "data": {
      "text/plain": [
       "Index(['age', 'sex', 'bmi', 'children', 'smoker', 'region', 'expenses',\n",
       "       'age by sex', 'age by children', 'age by smoker', 'age by region'],\n",
       "      dtype='object')"
      ]
     },
     "execution_count": 298,
     "metadata": {},
     "output_type": "execute_result"
    }
   ],
   "source": [
    "df.columns"
   ]
  },
  {
   "cell_type": "code",
   "execution_count": 302,
   "metadata": {},
   "outputs": [],
   "source": [
    "import sweetviz as sv"
   ]
  },
  {
   "cell_type": "code",
   "execution_count": 303,
   "metadata": {},
   "outputs": [
    {
     "data": {
      "application/vnd.jupyter.widget-view+json": {
       "model_id": "1e1304a6166041bf8f99d0b9e58449df",
       "version_major": 2,
       "version_minor": 0
      },
      "text/plain": [
       "                                             |                                             | [  0%]   00:00 ->…"
      ]
     },
     "metadata": {},
     "output_type": "display_data"
    },
    {
     "name": "stdout",
     "output_type": "stream",
     "text": [
      "Report Analyze.html was generated! NOTEBOOK/COLAB USERS: the web browser MAY not pop up, regardless, the report IS saved in your notebook/colab files.\n"
     ]
    }
   ],
   "source": [
    "data=sv.analyze(df)\n",
    "data.show_html('Analyze.html')"
   ]
  },
  {
   "cell_type": "code",
   "execution_count": 306,
   "metadata": {},
   "outputs": [],
   "source": [
    "from IPython.display import IFrame"
   ]
  },
  {
   "cell_type": "code",
   "execution_count": 307,
   "metadata": {},
   "outputs": [
    {
     "data": {
      "text/html": [
       "\n",
       "        <iframe\n",
       "            width=\"1000\"\n",
       "            height=\"600\"\n",
       "            src=\"Analyze.html\"\n",
       "            frameborder=\"0\"\n",
       "            allowfullscreen\n",
       "        ></iframe>\n",
       "        "
      ],
      "text/plain": [
       "<IPython.lib.display.IFrame at 0x1e5735a8508>"
      ]
     },
     "execution_count": 307,
     "metadata": {},
     "output_type": "execute_result"
    }
   ],
   "source": [
    "IFrame(src='Analyze.html',width=1000,height=600)"
   ]
  },
  {
   "cell_type": "code",
   "execution_count": 308,
   "metadata": {},
   "outputs": [],
   "source": [
    "from sklearn.preprocessing import MinMaxScaler\n",
    "from sklearn.preprocessing import StandardScaler"
   ]
  },
  {
   "cell_type": "code",
   "execution_count": 309,
   "metadata": {},
   "outputs": [
    {
     "data": {
      "text/html": [
       "<div>\n",
       "<style scoped>\n",
       "    .dataframe tbody tr th:only-of-type {\n",
       "        vertical-align: middle;\n",
       "    }\n",
       "\n",
       "    .dataframe tbody tr th {\n",
       "        vertical-align: top;\n",
       "    }\n",
       "\n",
       "    .dataframe thead th {\n",
       "        text-align: right;\n",
       "    }\n",
       "</style>\n",
       "<table border=\"1\" class=\"dataframe\">\n",
       "  <thead>\n",
       "    <tr style=\"text-align: right;\">\n",
       "      <th></th>\n",
       "      <th>age</th>\n",
       "      <th>sex</th>\n",
       "      <th>bmi</th>\n",
       "      <th>children</th>\n",
       "      <th>smoker</th>\n",
       "      <th>region</th>\n",
       "      <th>expenses</th>\n",
       "      <th>age by sex</th>\n",
       "      <th>age by children</th>\n",
       "      <th>age by smoker</th>\n",
       "      <th>age by region</th>\n",
       "    </tr>\n",
       "  </thead>\n",
       "  <tbody>\n",
       "    <tr>\n",
       "      <th>0</th>\n",
       "      <td>0.021739</td>\n",
       "      <td>0.0</td>\n",
       "      <td>0.320755</td>\n",
       "      <td>0.0</td>\n",
       "      <td>1.0</td>\n",
       "      <td>1.000000</td>\n",
       "      <td>0.251611</td>\n",
       "      <td>0.50</td>\n",
       "      <td>0.50</td>\n",
       "      <td>0.0</td>\n",
       "      <td>1.0</td>\n",
       "    </tr>\n",
       "    <tr>\n",
       "      <th>1</th>\n",
       "      <td>0.000000</td>\n",
       "      <td>1.0</td>\n",
       "      <td>0.479784</td>\n",
       "      <td>0.2</td>\n",
       "      <td>0.0</td>\n",
       "      <td>0.666667</td>\n",
       "      <td>0.009636</td>\n",
       "      <td>0.50</td>\n",
       "      <td>0.50</td>\n",
       "      <td>0.0</td>\n",
       "      <td>0.0</td>\n",
       "    </tr>\n",
       "    <tr>\n",
       "      <th>2</th>\n",
       "      <td>0.217391</td>\n",
       "      <td>1.0</td>\n",
       "      <td>0.458221</td>\n",
       "      <td>0.6</td>\n",
       "      <td>0.0</td>\n",
       "      <td>0.666667</td>\n",
       "      <td>0.053115</td>\n",
       "      <td>0.25</td>\n",
       "      <td>0.25</td>\n",
       "      <td>0.0</td>\n",
       "      <td>0.0</td>\n",
       "    </tr>\n",
       "    <tr>\n",
       "      <th>3</th>\n",
       "      <td>0.326087</td>\n",
       "      <td>1.0</td>\n",
       "      <td>0.180593</td>\n",
       "      <td>0.0</td>\n",
       "      <td>0.0</td>\n",
       "      <td>0.333333</td>\n",
       "      <td>0.333010</td>\n",
       "      <td>0.25</td>\n",
       "      <td>0.25</td>\n",
       "      <td>1.0</td>\n",
       "      <td>1.0</td>\n",
       "    </tr>\n",
       "    <tr>\n",
       "      <th>4</th>\n",
       "      <td>0.304348</td>\n",
       "      <td>1.0</td>\n",
       "      <td>0.347709</td>\n",
       "      <td>0.0</td>\n",
       "      <td>0.0</td>\n",
       "      <td>0.333333</td>\n",
       "      <td>0.043816</td>\n",
       "      <td>0.25</td>\n",
       "      <td>0.25</td>\n",
       "      <td>1.0</td>\n",
       "      <td>0.0</td>\n",
       "    </tr>\n",
       "    <tr>\n",
       "      <th>...</th>\n",
       "      <td>...</td>\n",
       "      <td>...</td>\n",
       "      <td>...</td>\n",
       "      <td>...</td>\n",
       "      <td>...</td>\n",
       "      <td>...</td>\n",
       "      <td>...</td>\n",
       "      <td>...</td>\n",
       "      <td>...</td>\n",
       "      <td>...</td>\n",
       "      <td>...</td>\n",
       "    </tr>\n",
       "    <tr>\n",
       "      <th>1333</th>\n",
       "      <td>0.695652</td>\n",
       "      <td>1.0</td>\n",
       "      <td>0.404313</td>\n",
       "      <td>0.6</td>\n",
       "      <td>0.0</td>\n",
       "      <td>0.333333</td>\n",
       "      <td>0.151299</td>\n",
       "      <td>0.00</td>\n",
       "      <td>0.00</td>\n",
       "      <td>0.5</td>\n",
       "      <td>0.0</td>\n",
       "    </tr>\n",
       "    <tr>\n",
       "      <th>1334</th>\n",
       "      <td>0.000000</td>\n",
       "      <td>0.0</td>\n",
       "      <td>0.428571</td>\n",
       "      <td>0.0</td>\n",
       "      <td>0.0</td>\n",
       "      <td>0.000000</td>\n",
       "      <td>0.017305</td>\n",
       "      <td>0.50</td>\n",
       "      <td>0.50</td>\n",
       "      <td>0.0</td>\n",
       "      <td>0.0</td>\n",
       "    </tr>\n",
       "    <tr>\n",
       "      <th>1335</th>\n",
       "      <td>0.000000</td>\n",
       "      <td>0.0</td>\n",
       "      <td>0.563342</td>\n",
       "      <td>0.0</td>\n",
       "      <td>0.0</td>\n",
       "      <td>0.666667</td>\n",
       "      <td>0.008108</td>\n",
       "      <td>0.50</td>\n",
       "      <td>0.50</td>\n",
       "      <td>0.0</td>\n",
       "      <td>0.0</td>\n",
       "    </tr>\n",
       "    <tr>\n",
       "      <th>1336</th>\n",
       "      <td>0.065217</td>\n",
       "      <td>0.0</td>\n",
       "      <td>0.264151</td>\n",
       "      <td>0.0</td>\n",
       "      <td>0.0</td>\n",
       "      <td>1.000000</td>\n",
       "      <td>0.014144</td>\n",
       "      <td>0.50</td>\n",
       "      <td>0.50</td>\n",
       "      <td>0.0</td>\n",
       "      <td>0.0</td>\n",
       "    </tr>\n",
       "    <tr>\n",
       "      <th>1337</th>\n",
       "      <td>0.934783</td>\n",
       "      <td>0.0</td>\n",
       "      <td>0.353100</td>\n",
       "      <td>0.0</td>\n",
       "      <td>1.0</td>\n",
       "      <td>0.333333</td>\n",
       "      <td>0.447249</td>\n",
       "      <td>0.75</td>\n",
       "      <td>1.00</td>\n",
       "      <td>0.5</td>\n",
       "      <td>1.0</td>\n",
       "    </tr>\n",
       "  </tbody>\n",
       "</table>\n",
       "<p>1338 rows × 11 columns</p>\n",
       "</div>"
      ],
      "text/plain": [
       "           age  sex       bmi  children  smoker    region  expenses  \\\n",
       "0     0.021739  0.0  0.320755       0.0     1.0  1.000000  0.251611   \n",
       "1     0.000000  1.0  0.479784       0.2     0.0  0.666667  0.009636   \n",
       "2     0.217391  1.0  0.458221       0.6     0.0  0.666667  0.053115   \n",
       "3     0.326087  1.0  0.180593       0.0     0.0  0.333333  0.333010   \n",
       "4     0.304348  1.0  0.347709       0.0     0.0  0.333333  0.043816   \n",
       "...        ...  ...       ...       ...     ...       ...       ...   \n",
       "1333  0.695652  1.0  0.404313       0.6     0.0  0.333333  0.151299   \n",
       "1334  0.000000  0.0  0.428571       0.0     0.0  0.000000  0.017305   \n",
       "1335  0.000000  0.0  0.563342       0.0     0.0  0.666667  0.008108   \n",
       "1336  0.065217  0.0  0.264151       0.0     0.0  1.000000  0.014144   \n",
       "1337  0.934783  0.0  0.353100       0.0     1.0  0.333333  0.447249   \n",
       "\n",
       "      age by sex  age by children  age by smoker  age by region  \n",
       "0           0.50             0.50            0.0            1.0  \n",
       "1           0.50             0.50            0.0            0.0  \n",
       "2           0.25             0.25            0.0            0.0  \n",
       "3           0.25             0.25            1.0            1.0  \n",
       "4           0.25             0.25            1.0            0.0  \n",
       "...          ...              ...            ...            ...  \n",
       "1333        0.00             0.00            0.5            0.0  \n",
       "1334        0.50             0.50            0.0            0.0  \n",
       "1335        0.50             0.50            0.0            0.0  \n",
       "1336        0.50             0.50            0.0            0.0  \n",
       "1337        0.75             1.00            0.5            1.0  \n",
       "\n",
       "[1338 rows x 11 columns]"
      ]
     },
     "execution_count": 309,
     "metadata": {},
     "output_type": "execute_result"
    }
   ],
   "source": [
    "man=MinMaxScaler()\n",
    "feat=['age', 'sex', 'bmi', 'children', 'smoker', 'region', 'expenses',\n",
    "       'age by sex', 'age by children', 'age by smoker', 'age by region']\n",
    "df[feat]=man.fit_transform(df[feat])\n",
    "df[feat]"
   ]
  },
  {
   "cell_type": "code",
   "execution_count": 310,
   "metadata": {},
   "outputs": [
    {
     "data": {
      "text/html": [
       "<div>\n",
       "<style scoped>\n",
       "    .dataframe tbody tr th:only-of-type {\n",
       "        vertical-align: middle;\n",
       "    }\n",
       "\n",
       "    .dataframe tbody tr th {\n",
       "        vertical-align: top;\n",
       "    }\n",
       "\n",
       "    .dataframe thead th {\n",
       "        text-align: right;\n",
       "    }\n",
       "</style>\n",
       "<table border=\"1\" class=\"dataframe\">\n",
       "  <thead>\n",
       "    <tr style=\"text-align: right;\">\n",
       "      <th></th>\n",
       "      <th>age</th>\n",
       "      <th>sex</th>\n",
       "      <th>bmi</th>\n",
       "      <th>children</th>\n",
       "      <th>smoker</th>\n",
       "      <th>region</th>\n",
       "      <th>expenses</th>\n",
       "      <th>age by sex</th>\n",
       "      <th>age by children</th>\n",
       "      <th>age by smoker</th>\n",
       "      <th>age by region</th>\n",
       "    </tr>\n",
       "  </thead>\n",
       "  <tbody>\n",
       "    <tr>\n",
       "      <th>0</th>\n",
       "      <td>-1.438764</td>\n",
       "      <td>-1.010519</td>\n",
       "      <td>-0.453646</td>\n",
       "      <td>-0.908614</td>\n",
       "      <td>1.970587</td>\n",
       "      <td>1.343905</td>\n",
       "      <td>0.298583</td>\n",
       "      <td>0.048678</td>\n",
       "      <td>0.053746</td>\n",
       "      <td>-1.181039</td>\n",
       "      <td>1.759284</td>\n",
       "    </tr>\n",
       "    <tr>\n",
       "      <th>1</th>\n",
       "      <td>-1.509965</td>\n",
       "      <td>0.989591</td>\n",
       "      <td>0.514186</td>\n",
       "      <td>-0.078767</td>\n",
       "      <td>-0.507463</td>\n",
       "      <td>0.438495</td>\n",
       "      <td>-0.953689</td>\n",
       "      <td>0.048678</td>\n",
       "      <td>0.053746</td>\n",
       "      <td>-1.181039</td>\n",
       "      <td>-0.669944</td>\n",
       "    </tr>\n",
       "    <tr>\n",
       "      <th>2</th>\n",
       "      <td>-0.797954</td>\n",
       "      <td>0.989591</td>\n",
       "      <td>0.382954</td>\n",
       "      <td>1.580926</td>\n",
       "      <td>-0.507463</td>\n",
       "      <td>0.438495</td>\n",
       "      <td>-0.728675</td>\n",
       "      <td>-0.659266</td>\n",
       "      <td>-0.658250</td>\n",
       "      <td>-1.181039</td>\n",
       "      <td>-0.669944</td>\n",
       "    </tr>\n",
       "    <tr>\n",
       "      <th>3</th>\n",
       "      <td>-0.441948</td>\n",
       "      <td>0.989591</td>\n",
       "      <td>-1.306650</td>\n",
       "      <td>-0.908614</td>\n",
       "      <td>-0.507463</td>\n",
       "      <td>-0.466915</td>\n",
       "      <td>0.719843</td>\n",
       "      <td>-0.659266</td>\n",
       "      <td>-0.658250</td>\n",
       "      <td>1.265137</td>\n",
       "      <td>1.759284</td>\n",
       "    </tr>\n",
       "    <tr>\n",
       "      <th>4</th>\n",
       "      <td>-0.513149</td>\n",
       "      <td>0.989591</td>\n",
       "      <td>-0.289606</td>\n",
       "      <td>-0.908614</td>\n",
       "      <td>-0.507463</td>\n",
       "      <td>-0.466915</td>\n",
       "      <td>-0.776802</td>\n",
       "      <td>-0.659266</td>\n",
       "      <td>-0.658250</td>\n",
       "      <td>1.265137</td>\n",
       "      <td>-0.669944</td>\n",
       "    </tr>\n",
       "    <tr>\n",
       "      <th>...</th>\n",
       "      <td>...</td>\n",
       "      <td>...</td>\n",
       "      <td>...</td>\n",
       "      <td>...</td>\n",
       "      <td>...</td>\n",
       "      <td>...</td>\n",
       "      <td>...</td>\n",
       "      <td>...</td>\n",
       "      <td>...</td>\n",
       "      <td>...</td>\n",
       "      <td>...</td>\n",
       "    </tr>\n",
       "    <tr>\n",
       "      <th>1333</th>\n",
       "      <td>0.768473</td>\n",
       "      <td>0.989591</td>\n",
       "      <td>0.054876</td>\n",
       "      <td>1.580926</td>\n",
       "      <td>-0.507463</td>\n",
       "      <td>-0.466915</td>\n",
       "      <td>-0.220551</td>\n",
       "      <td>-1.367210</td>\n",
       "      <td>-1.370246</td>\n",
       "      <td>0.042049</td>\n",
       "      <td>-0.669944</td>\n",
       "    </tr>\n",
       "    <tr>\n",
       "      <th>1334</th>\n",
       "      <td>-1.509965</td>\n",
       "      <td>-1.010519</td>\n",
       "      <td>0.202511</td>\n",
       "      <td>-0.908614</td>\n",
       "      <td>-0.507463</td>\n",
       "      <td>-1.372326</td>\n",
       "      <td>-0.914002</td>\n",
       "      <td>0.048678</td>\n",
       "      <td>0.053746</td>\n",
       "      <td>-1.181039</td>\n",
       "      <td>-0.669944</td>\n",
       "    </tr>\n",
       "    <tr>\n",
       "      <th>1335</th>\n",
       "      <td>-1.509965</td>\n",
       "      <td>-1.010519</td>\n",
       "      <td>1.022707</td>\n",
       "      <td>-0.908614</td>\n",
       "      <td>-0.507463</td>\n",
       "      <td>0.438495</td>\n",
       "      <td>-0.961597</td>\n",
       "      <td>0.048678</td>\n",
       "      <td>0.053746</td>\n",
       "      <td>-1.181039</td>\n",
       "      <td>-0.669944</td>\n",
       "    </tr>\n",
       "    <tr>\n",
       "      <th>1336</th>\n",
       "      <td>-1.296362</td>\n",
       "      <td>-1.010519</td>\n",
       "      <td>-0.798128</td>\n",
       "      <td>-0.908614</td>\n",
       "      <td>-0.507463</td>\n",
       "      <td>1.343905</td>\n",
       "      <td>-0.930361</td>\n",
       "      <td>0.048678</td>\n",
       "      <td>0.053746</td>\n",
       "      <td>-1.181039</td>\n",
       "      <td>-0.669944</td>\n",
       "    </tr>\n",
       "    <tr>\n",
       "      <th>1337</th>\n",
       "      <td>1.551686</td>\n",
       "      <td>-1.010519</td>\n",
       "      <td>-0.256799</td>\n",
       "      <td>-0.908614</td>\n",
       "      <td>1.970587</td>\n",
       "      <td>-0.466915</td>\n",
       "      <td>1.311053</td>\n",
       "      <td>0.756622</td>\n",
       "      <td>1.477737</td>\n",
       "      <td>0.042049</td>\n",
       "      <td>1.759284</td>\n",
       "    </tr>\n",
       "  </tbody>\n",
       "</table>\n",
       "<p>1338 rows × 11 columns</p>\n",
       "</div>"
      ],
      "text/plain": [
       "           age       sex       bmi  children    smoker    region  expenses  \\\n",
       "0    -1.438764 -1.010519 -0.453646 -0.908614  1.970587  1.343905  0.298583   \n",
       "1    -1.509965  0.989591  0.514186 -0.078767 -0.507463  0.438495 -0.953689   \n",
       "2    -0.797954  0.989591  0.382954  1.580926 -0.507463  0.438495 -0.728675   \n",
       "3    -0.441948  0.989591 -1.306650 -0.908614 -0.507463 -0.466915  0.719843   \n",
       "4    -0.513149  0.989591 -0.289606 -0.908614 -0.507463 -0.466915 -0.776802   \n",
       "...        ...       ...       ...       ...       ...       ...       ...   \n",
       "1333  0.768473  0.989591  0.054876  1.580926 -0.507463 -0.466915 -0.220551   \n",
       "1334 -1.509965 -1.010519  0.202511 -0.908614 -0.507463 -1.372326 -0.914002   \n",
       "1335 -1.509965 -1.010519  1.022707 -0.908614 -0.507463  0.438495 -0.961597   \n",
       "1336 -1.296362 -1.010519 -0.798128 -0.908614 -0.507463  1.343905 -0.930361   \n",
       "1337  1.551686 -1.010519 -0.256799 -0.908614  1.970587 -0.466915  1.311053   \n",
       "\n",
       "      age by sex  age by children  age by smoker  age by region  \n",
       "0       0.048678         0.053746      -1.181039       1.759284  \n",
       "1       0.048678         0.053746      -1.181039      -0.669944  \n",
       "2      -0.659266        -0.658250      -1.181039      -0.669944  \n",
       "3      -0.659266        -0.658250       1.265137       1.759284  \n",
       "4      -0.659266        -0.658250       1.265137      -0.669944  \n",
       "...          ...              ...            ...            ...  \n",
       "1333   -1.367210        -1.370246       0.042049      -0.669944  \n",
       "1334    0.048678         0.053746      -1.181039      -0.669944  \n",
       "1335    0.048678         0.053746      -1.181039      -0.669944  \n",
       "1336    0.048678         0.053746      -1.181039      -0.669944  \n",
       "1337    0.756622         1.477737       0.042049       1.759284  \n",
       "\n",
       "[1338 rows x 11 columns]"
      ]
     },
     "execution_count": 310,
     "metadata": {},
     "output_type": "execute_result"
    }
   ],
   "source": [
    "std=StandardScaler()\n",
    "feat=['age', 'sex', 'bmi', 'children', 'smoker', 'region', 'expenses',\n",
    "       'age by sex', 'age by children', 'age by smoker', 'age by region']\n",
    "df[feat]=std.fit_transform(df[feat])\n",
    "df[feat]"
   ]
  },
  {
   "cell_type": "code",
   "execution_count": 311,
   "metadata": {},
   "outputs": [
    {
     "data": {
      "text/plain": [
       "(1338, 11)"
      ]
     },
     "execution_count": 311,
     "metadata": {},
     "output_type": "execute_result"
    }
   ],
   "source": [
    "df.shape"
   ]
  },
  {
   "cell_type": "code",
   "execution_count": null,
   "metadata": {},
   "outputs": [],
   "source": []
  }
 ],
 "metadata": {
  "kernelspec": {
   "display_name": "Python 3",
   "language": "python",
   "name": "python3"
  },
  "language_info": {
   "codemirror_mode": {
    "name": "ipython",
    "version": 3
   },
   "file_extension": ".py",
   "mimetype": "text/x-python",
   "name": "python",
   "nbconvert_exporter": "python",
   "pygments_lexer": "ipython3",
   "version": "3.7.6"
  }
 },
 "nbformat": 4,
 "nbformat_minor": 4
}
